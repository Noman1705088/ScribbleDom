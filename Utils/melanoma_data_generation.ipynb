{
 "cells": [
  {
   "cell_type": "code",
   "execution_count": 39,
   "metadata": {},
   "outputs": [],
   "source": [
    "import numpy as np\n",
    "import pandas as pd\n",
    "import matplotlib.pyplot as plt\n",
    "import json\n",
    "import math\n",
    "import anndata\n",
    "import scipy\n",
    "import scanpy as sc\n",
    "\n",
    "# extract pcs sklearn\n",
    "from sklearn.decomposition import PCA\n",
    "from sklearn.preprocessing import StandardScaler"
   ]
  },
  {
   "cell_type": "code",
   "execution_count": 40,
   "metadata": {},
   "outputs": [],
   "source": [
    "npcs = 14"
   ]
  },
  {
   "attachments": {},
   "cell_type": "markdown",
   "metadata": {},
   "source": [
    "# File Paths"
   ]
  },
  {
   "attachments": {},
   "cell_type": "markdown",
   "metadata": {},
   "source": [
    "### Input files path"
   ]
  },
  {
   "cell_type": "code",
   "execution_count": 41,
   "metadata": {},
   "outputs": [],
   "source": [
    "gene_expression_vs_coord_data_file = \"../Data/others/Melanoma/ST_mel1_rep2_counts.tsv\"\n",
    "mclust_scribbles_file_csv = \"../Data/others/Melanoma/mclust_result.csv\"\n",
    "manual_scribble_file_csv = \"../Data/others/Melanoma/manual_scribble.csv\""
   ]
  },
  {
   "attachments": {},
   "cell_type": "markdown",
   "metadata": {},
   "source": [
    "### Output files path"
   ]
  },
  {
   "cell_type": "code",
   "execution_count": 42,
   "metadata": {},
   "outputs": [],
   "source": [
    "map_pixel_to_grid_spot_file_path = \"../Algorithms/Unsupervised_Segmentation/Approaches/With_Scribbles/Local_Data/others/Melanoma/Jsons/map_pixel_to_grid_spot.json\"\n",
    "background_path = \"../Algorithms/Unsupervised_Segmentation/Approaches/With_Scribbles/Local_Data/others/Melanoma/Npys/backgrounds.npy\"\n",
    "foreground_path = \"../Algorithms/Unsupervised_Segmentation/Approaches/With_Scribbles/Local_Data/others/Melanoma/Npys/foregrounds.npy\"\n",
    "pixel_barcode_file_path = \"../Algorithms/Unsupervised_Segmentation/Approaches/With_Scribbles/Local_Data/others/Melanoma/Npys/pixel_barcode.npy\"\n",
    "pca_file_path = f\"../Algorithms/Unsupervised_Segmentation/Approaches/With_Scribbles/Local_Data/others/Melanoma/Npys/mapped_{npcs}.npy\"\n",
    "mclust_scribbles_file = \"../Algorithms/Unsupervised_Segmentation/Approaches/With_Scribbles/Local_Data/others/Melanoma/Scribble/mclust_scribble.npy\"\n",
    "manual_scribbles_file = \"../Algorithms/Unsupervised_Segmentation/Approaches/With_Scribbles/Local_Data/others/Melanoma/Scribble/manual_scribble_1.npy\""
   ]
  },
  {
   "cell_type": "code",
   "execution_count": 43,
   "metadata": {},
   "outputs": [
    {
     "data": {
      "text/plain": [
       "<matplotlib.collections.PathCollection at 0x7fddb3501c30>"
      ]
     },
     "execution_count": 43,
     "metadata": {},
     "output_type": "execute_result"
    },
    {
     "data": {
      "image/png": "[encoded data removed]",
      "text/plain": [
       "<Figure size 640x480 with 1 Axes>"
      ]
     },
     "metadata": {},
     "output_type": "display_data"
    }
   ],
   "source": [
    "# Read the data tsv file\n",
    "data = pd.read_csv(gene_expression_vs_coord_data_file, sep='\\t')\n",
    "\n",
    "x_pixels = []\n",
    "y_pixels = []\n",
    "for spot in data.columns:\n",
    "    if spot != 'gene':\n",
    "        y_pixels.append(int(spot.split('x')[0])+1)\n",
    "        x_pixels.append(int(spot.split('x')[1])-1)\n",
    "plt.scatter(x_pixels, y_pixels)"
   ]
  },
  {
   "cell_type": "code",
   "execution_count": 44,
   "metadata": {},
   "outputs": [
    {
     "data": {
      "text/html": [
       "<div>\n",
       "<style scoped>\n",
       "    .dataframe tbody tr th:only-of-type {\n",
       "        vertical-align: middle;\n",
       "    }\n",
       "\n",
       "    .dataframe tbody tr th {\n",
       "        vertical-align: top;\n",
       "    }\n",
       "\n",
       "    .dataframe thead th {\n",
       "        text-align: right;\n",
       "    }\n",
       "</style>\n",
       "<table border=\"1\" class=\"dataframe\">\n",
       "  <thead>\n",
       "    <tr style=\"text-align: right;\">\n",
       "      <th>gene</th>\n",
       "      <th>PSME2 ENSG00000100911</th>\n",
       "      <th>CUEDC1 ENSG00000180891</th>\n",
       "      <th>RPLP1 ENSG00000137818</th>\n",
       "      <th>TM9SF3 ENSG00000077147</th>\n",
       "      <th>DEF8 ENSG00000140995</th>\n",
       "      <th>RPL37A ENSG00000197756</th>\n",
       "      <th>NELL1 ENSG00000165973</th>\n",
       "      <th>MFGE8 ENSG00000140545</th>\n",
       "      <th>AIP ENSG00000110711</th>\n",
       "      <th>TSC22D3 ENSG00000157514</th>\n",
       "      <th>...</th>\n",
       "      <th>TREM1 ENSG00000124731</th>\n",
       "      <th>C2CD4A ENSG00000198535</th>\n",
       "      <th>TAF1L ENSG00000122728</th>\n",
       "      <th>PEBP4 ENSG00000134020</th>\n",
       "      <th>BCL2L15 ENSG00000188761</th>\n",
       "      <th>MYBPC2 ENSG00000086967</th>\n",
       "      <th>RHOD ENSG00000173156</th>\n",
       "      <th>PPEF1 ENSG00000086717</th>\n",
       "      <th>CKMT2 ENSG00000131730</th>\n",
       "      <th>PGM5P2 ENSG00000277778</th>\n",
       "    </tr>\n",
       "  </thead>\n",
       "  <tbody>\n",
       "    <tr>\n",
       "      <th>7x15</th>\n",
       "      <td>2</td>\n",
       "      <td>0</td>\n",
       "      <td>21</td>\n",
       "      <td>0</td>\n",
       "      <td>0</td>\n",
       "      <td>28</td>\n",
       "      <td>2</td>\n",
       "      <td>2</td>\n",
       "      <td>1</td>\n",
       "      <td>0</td>\n",
       "      <td>...</td>\n",
       "      <td>0</td>\n",
       "      <td>0</td>\n",
       "      <td>0</td>\n",
       "      <td>0</td>\n",
       "      <td>0</td>\n",
       "      <td>0</td>\n",
       "      <td>0</td>\n",
       "      <td>0</td>\n",
       "      <td>0</td>\n",
       "      <td>0</td>\n",
       "    </tr>\n",
       "    <tr>\n",
       "      <th>7x16</th>\n",
       "      <td>0</td>\n",
       "      <td>0</td>\n",
       "      <td>13</td>\n",
       "      <td>0</td>\n",
       "      <td>0</td>\n",
       "      <td>13</td>\n",
       "      <td>0</td>\n",
       "      <td>3</td>\n",
       "      <td>0</td>\n",
       "      <td>0</td>\n",
       "      <td>...</td>\n",
       "      <td>0</td>\n",
       "      <td>0</td>\n",
       "      <td>0</td>\n",
       "      <td>0</td>\n",
       "      <td>0</td>\n",
       "      <td>0</td>\n",
       "      <td>0</td>\n",
       "      <td>0</td>\n",
       "      <td>0</td>\n",
       "      <td>0</td>\n",
       "    </tr>\n",
       "    <tr>\n",
       "      <th>7x17</th>\n",
       "      <td>0</td>\n",
       "      <td>0</td>\n",
       "      <td>13</td>\n",
       "      <td>0</td>\n",
       "      <td>0</td>\n",
       "      <td>15</td>\n",
       "      <td>0</td>\n",
       "      <td>2</td>\n",
       "      <td>0</td>\n",
       "      <td>0</td>\n",
       "      <td>...</td>\n",
       "      <td>0</td>\n",
       "      <td>0</td>\n",
       "      <td>0</td>\n",
       "      <td>0</td>\n",
       "      <td>0</td>\n",
       "      <td>0</td>\n",
       "      <td>0</td>\n",
       "      <td>0</td>\n",
       "      <td>0</td>\n",
       "      <td>0</td>\n",
       "    </tr>\n",
       "    <tr>\n",
       "      <th>7x18</th>\n",
       "      <td>0</td>\n",
       "      <td>1</td>\n",
       "      <td>18</td>\n",
       "      <td>0</td>\n",
       "      <td>1</td>\n",
       "      <td>17</td>\n",
       "      <td>2</td>\n",
       "      <td>3</td>\n",
       "      <td>1</td>\n",
       "      <td>0</td>\n",
       "      <td>...</td>\n",
       "      <td>0</td>\n",
       "      <td>0</td>\n",
       "      <td>0</td>\n",
       "      <td>0</td>\n",
       "      <td>0</td>\n",
       "      <td>0</td>\n",
       "      <td>0</td>\n",
       "      <td>0</td>\n",
       "      <td>0</td>\n",
       "      <td>0</td>\n",
       "    </tr>\n",
       "    <tr>\n",
       "      <th>8x13</th>\n",
       "      <td>0</td>\n",
       "      <td>0</td>\n",
       "      <td>10</td>\n",
       "      <td>0</td>\n",
       "      <td>0</td>\n",
       "      <td>3</td>\n",
       "      <td>0</td>\n",
       "      <td>2</td>\n",
       "      <td>0</td>\n",
       "      <td>0</td>\n",
       "      <td>...</td>\n",
       "      <td>0</td>\n",
       "      <td>0</td>\n",
       "      <td>0</td>\n",
       "      <td>0</td>\n",
       "      <td>0</td>\n",
       "      <td>0</td>\n",
       "      <td>0</td>\n",
       "      <td>0</td>\n",
       "      <td>0</td>\n",
       "      <td>0</td>\n",
       "    </tr>\n",
       "  </tbody>\n",
       "</table>\n",
       "<p>5 rows × 16148 columns</p>\n",
       "</div>"
      ],
      "text/plain": [
       "gene  PSME2 ENSG00000100911  CUEDC1 ENSG00000180891  RPLP1 ENSG00000137818  \\\n",
       "7x15                      2                       0                     21   \n",
       "7x16                      0                       0                     13   \n",
       "7x17                      0                       0                     13   \n",
       "7x18                      0                       1                     18   \n",
       "8x13                      0                       0                     10   \n",
       "\n",
       "gene  TM9SF3 ENSG00000077147  DEF8 ENSG00000140995  RPL37A ENSG00000197756  \\\n",
       "7x15                       0                     0                      28   \n",
       "7x16                       0                     0                      13   \n",
       "7x17                       0                     0                      15   \n",
       "7x18                       0                     1                      17   \n",
       "8x13                       0                     0                       3   \n",
       "\n",
       "gene  NELL1 ENSG00000165973  MFGE8 ENSG00000140545  AIP ENSG00000110711  \\\n",
       "7x15                      2                      2                    1   \n",
       "7x16                      0                      3                    0   \n",
       "7x17                      0                      2                    0   \n",
       "7x18                      2                      3                    1   \n",
       "8x13                      0                      2                    0   \n",
       "\n",
       "gene  TSC22D3 ENSG00000157514  ...  TREM1 ENSG00000124731  \\\n",
       "7x15                        0  ...                      0   \n",
       "7x16                        0  ...                      0   \n",
       "7x17                        0  ...                      0   \n",
       "7x18                        0  ...                      0   \n",
       "8x13                        0  ...                      0   \n",
       "\n",
       "gene  C2CD4A ENSG00000198535  TAF1L ENSG00000122728  PEBP4 ENSG00000134020  \\\n",
       "7x15                       0                      0                      0   \n",
       "7x16                       0                      0                      0   \n",
       "7x17                       0                      0                      0   \n",
       "7x18                       0                      0                      0   \n",
       "8x13                       0                      0                      0   \n",
       "\n",
       "gene  BCL2L15 ENSG00000188761  MYBPC2 ENSG00000086967  RHOD ENSG00000173156  \\\n",
       "7x15                        0                       0                     0   \n",
       "7x16                        0                       0                     0   \n",
       "7x17                        0                       0                     0   \n",
       "7x18                        0                       0                     0   \n",
       "8x13                        0                       0                     0   \n",
       "\n",
       "gene  PPEF1 ENSG00000086717  CKMT2 ENSG00000131730  PGM5P2 ENSG00000277778  \n",
       "7x15                      0                      0                       0  \n",
       "7x16                      0                      0                       0  \n",
       "7x17                      0                      0                       0  \n",
       "7x18                      0                      0                       0  \n",
       "8x13                      0                      0                       0  \n",
       "\n",
       "[5 rows x 16148 columns]"
      ]
     },
     "execution_count": 44,
     "metadata": {},
     "output_type": "execute_result"
    }
   ],
   "source": [
    "data.set_index('gene', inplace=True)\n",
    "data = data.transpose()\n",
    "data.head()"
   ]
  },
  {
   "cell_type": "code",
   "execution_count": 45,
   "metadata": {},
   "outputs": [],
   "source": [
    "df = pd.DataFrame({'axis_1': x_pixels, 'axis_2': y_pixels}, index=data.index)\n",
    "df.head()\n",
    "df.to_csv('../Data/others/Melanoma/coordinate.csv')"
   ]
  },
  {
   "cell_type": "code",
   "execution_count": 46,
   "metadata": {},
   "outputs": [
    {
     "name": "stderr",
     "output_type": "stream",
     "text": [
      "/tmp/ipykernel_1106/1127542037.py:2: FutureWarning: X.dtype being converted to np.float32 from int64. In the next version of anndata (0.9) conversion will not be automatic. Pass dtype explicitly to avoid this warning. Pass `AnnData(X, dtype=X.dtype, ...)` to get the future behavour.\n",
      "  adata = anndata.AnnData(X = data)\n"
     ]
    }
   ],
   "source": [
    "# create anndata object from pandas dataframe data\n",
    "adata = anndata.AnnData(X = data)\n",
    "adata.obsm['spatial'] = np.array([x_pixels, y_pixels]).T\n",
    "\n",
    "bdata = adata.copy()"
   ]
  },
  {
   "cell_type": "code",
   "execution_count": 47,
   "metadata": {},
   "outputs": [
    {
     "data": {
      "image/png": "[encoded data removed]",
      "text/plain": [
       "<Figure size 640x480 with 1 Axes>"
      ]
     },
     "metadata": {},
     "output_type": "display_data"
    }
   ],
   "source": [
    "sc.pp.normalize_total(adata, inplace=True)\n",
    "sc.pp.log1p(adata)\n",
    "sc.pp.highly_variable_genes(adata, flavor=\"seurat\", n_top_genes=2000)\n",
    "\n",
    "sc.pp.pca(adata,n_comps=npcs)\n",
    "sc.pl.pca_variance_ratio(adata, log=True)"
   ]
  },
  {
   "cell_type": "code",
   "execution_count": 48,
   "metadata": {},
   "outputs": [
    {
     "data": {
      "text/html": [
       "<div>\n",
       "<style scoped>\n",
       "    .dataframe tbody tr th:only-of-type {\n",
       "        vertical-align: middle;\n",
       "    }\n",
       "\n",
       "    .dataframe tbody tr th {\n",
       "        vertical-align: top;\n",
       "    }\n",
       "\n",
       "    .dataframe thead th {\n",
       "        text-align: right;\n",
       "    }\n",
       "</style>\n",
       "<table border=\"1\" class=\"dataframe\">\n",
       "  <thead>\n",
       "    <tr style=\"text-align: right;\">\n",
       "      <th>gene</th>\n",
       "      <th>RPLP1 ENSG00000137818</th>\n",
       "      <th>NEURL1 ENSG00000107954</th>\n",
       "      <th>TMEM251 ENSG00000153485</th>\n",
       "      <th>LGALS3 ENSG00000131981</th>\n",
       "      <th>ERC2 ENSG00000187672</th>\n",
       "      <th>BNIP3 ENSG00000176171</th>\n",
       "      <th>WBSCR22 ENSG00000071462</th>\n",
       "      <th>NDUFB6 ENSG00000165264</th>\n",
       "      <th>DCN ENSG00000011465</th>\n",
       "      <th>MYO9B ENSG00000099331</th>\n",
       "      <th>...</th>\n",
       "      <th>SLC23A1 ENSG00000170482</th>\n",
       "      <th>CTD-2619J13.19 ENSG00000269473</th>\n",
       "      <th>LINC01503 ENSG00000233901</th>\n",
       "      <th>CTD-2118P12.1 ENSG00000259786</th>\n",
       "      <th>GRM8 ENSG00000179603</th>\n",
       "      <th>RP11-744K17.1 ENSG00000261020</th>\n",
       "      <th>RP11-1250I15.3 ENSG00000271771</th>\n",
       "      <th>RP11-700H6.1 ENSG00000247011</th>\n",
       "      <th>GLI1 ENSG00000111087</th>\n",
       "      <th>MCF2L2 ENSG00000053524</th>\n",
       "    </tr>\n",
       "  </thead>\n",
       "  <tbody>\n",
       "    <tr>\n",
       "      <th>7x15</th>\n",
       "      <td>21</td>\n",
       "      <td>0</td>\n",
       "      <td>0</td>\n",
       "      <td>6</td>\n",
       "      <td>0</td>\n",
       "      <td>0</td>\n",
       "      <td>1</td>\n",
       "      <td>0</td>\n",
       "      <td>0</td>\n",
       "      <td>1</td>\n",
       "      <td>...</td>\n",
       "      <td>0</td>\n",
       "      <td>0</td>\n",
       "      <td>0</td>\n",
       "      <td>0</td>\n",
       "      <td>0</td>\n",
       "      <td>0</td>\n",
       "      <td>0</td>\n",
       "      <td>0</td>\n",
       "      <td>0</td>\n",
       "      <td>0</td>\n",
       "    </tr>\n",
       "    <tr>\n",
       "      <th>7x16</th>\n",
       "      <td>13</td>\n",
       "      <td>0</td>\n",
       "      <td>0</td>\n",
       "      <td>6</td>\n",
       "      <td>0</td>\n",
       "      <td>0</td>\n",
       "      <td>1</td>\n",
       "      <td>0</td>\n",
       "      <td>0</td>\n",
       "      <td>1</td>\n",
       "      <td>...</td>\n",
       "      <td>0</td>\n",
       "      <td>0</td>\n",
       "      <td>0</td>\n",
       "      <td>0</td>\n",
       "      <td>0</td>\n",
       "      <td>0</td>\n",
       "      <td>0</td>\n",
       "      <td>0</td>\n",
       "      <td>0</td>\n",
       "      <td>0</td>\n",
       "    </tr>\n",
       "    <tr>\n",
       "      <th>7x17</th>\n",
       "      <td>13</td>\n",
       "      <td>0</td>\n",
       "      <td>0</td>\n",
       "      <td>2</td>\n",
       "      <td>0</td>\n",
       "      <td>0</td>\n",
       "      <td>0</td>\n",
       "      <td>0</td>\n",
       "      <td>1</td>\n",
       "      <td>2</td>\n",
       "      <td>...</td>\n",
       "      <td>0</td>\n",
       "      <td>0</td>\n",
       "      <td>0</td>\n",
       "      <td>0</td>\n",
       "      <td>0</td>\n",
       "      <td>0</td>\n",
       "      <td>0</td>\n",
       "      <td>0</td>\n",
       "      <td>0</td>\n",
       "      <td>0</td>\n",
       "    </tr>\n",
       "    <tr>\n",
       "      <th>7x18</th>\n",
       "      <td>18</td>\n",
       "      <td>0</td>\n",
       "      <td>0</td>\n",
       "      <td>4</td>\n",
       "      <td>0</td>\n",
       "      <td>0</td>\n",
       "      <td>0</td>\n",
       "      <td>1</td>\n",
       "      <td>0</td>\n",
       "      <td>0</td>\n",
       "      <td>...</td>\n",
       "      <td>0</td>\n",
       "      <td>0</td>\n",
       "      <td>0</td>\n",
       "      <td>0</td>\n",
       "      <td>0</td>\n",
       "      <td>0</td>\n",
       "      <td>0</td>\n",
       "      <td>0</td>\n",
       "      <td>0</td>\n",
       "      <td>0</td>\n",
       "    </tr>\n",
       "    <tr>\n",
       "      <th>8x13</th>\n",
       "      <td>10</td>\n",
       "      <td>0</td>\n",
       "      <td>1</td>\n",
       "      <td>2</td>\n",
       "      <td>0</td>\n",
       "      <td>0</td>\n",
       "      <td>0</td>\n",
       "      <td>0</td>\n",
       "      <td>0</td>\n",
       "      <td>0</td>\n",
       "      <td>...</td>\n",
       "      <td>0</td>\n",
       "      <td>0</td>\n",
       "      <td>0</td>\n",
       "      <td>0</td>\n",
       "      <td>0</td>\n",
       "      <td>0</td>\n",
       "      <td>0</td>\n",
       "      <td>0</td>\n",
       "      <td>0</td>\n",
       "      <td>0</td>\n",
       "    </tr>\n",
       "  </tbody>\n",
       "</table>\n",
       "<p>5 rows × 2000 columns</p>\n",
       "</div>"
      ],
      "text/plain": [
       "gene  RPLP1 ENSG00000137818  NEURL1 ENSG00000107954  TMEM251 ENSG00000153485  \\\n",
       "7x15                     21                       0                        0   \n",
       "7x16                     13                       0                        0   \n",
       "7x17                     13                       0                        0   \n",
       "7x18                     18                       0                        0   \n",
       "8x13                     10                       0                        1   \n",
       "\n",
       "gene  LGALS3 ENSG00000131981  ERC2 ENSG00000187672  BNIP3 ENSG00000176171  \\\n",
       "7x15                       6                     0                      0   \n",
       "7x16                       6                     0                      0   \n",
       "7x17                       2                     0                      0   \n",
       "7x18                       4                     0                      0   \n",
       "8x13                       2                     0                      0   \n",
       "\n",
       "gene  WBSCR22 ENSG00000071462  NDUFB6 ENSG00000165264  DCN ENSG00000011465  \\\n",
       "7x15                        1                       0                    0   \n",
       "7x16                        1                       0                    0   \n",
       "7x17                        0                       0                    1   \n",
       "7x18                        0                       1                    0   \n",
       "8x13                        0                       0                    0   \n",
       "\n",
       "gene  MYO9B ENSG00000099331  ...  SLC23A1 ENSG00000170482  \\\n",
       "7x15                      1  ...                        0   \n",
       "7x16                      1  ...                        0   \n",
       "7x17                      2  ...                        0   \n",
       "7x18                      0  ...                        0   \n",
       "8x13                      0  ...                        0   \n",
       "\n",
       "gene  CTD-2619J13.19 ENSG00000269473  LINC01503 ENSG00000233901  \\\n",
       "7x15                               0                          0   \n",
       "7x16                               0                          0   \n",
       "7x17                               0                          0   \n",
       "7x18                               0                          0   \n",
       "8x13                               0                          0   \n",
       "\n",
       "gene  CTD-2118P12.1 ENSG00000259786  GRM8 ENSG00000179603  \\\n",
       "7x15                              0                     0   \n",
       "7x16                              0                     0   \n",
       "7x17                              0                     0   \n",
       "7x18                              0                     0   \n",
       "8x13                              0                     0   \n",
       "\n",
       "gene  RP11-744K17.1 ENSG00000261020  RP11-1250I15.3 ENSG00000271771  \\\n",
       "7x15                              0                               0   \n",
       "7x16                              0                               0   \n",
       "7x17                              0                               0   \n",
       "7x18                              0                               0   \n",
       "8x13                              0                               0   \n",
       "\n",
       "gene  RP11-700H6.1 ENSG00000247011  GLI1 ENSG00000111087  \\\n",
       "7x15                             0                     0   \n",
       "7x16                             0                     0   \n",
       "7x17                             0                     0   \n",
       "7x18                             0                     0   \n",
       "8x13                             0                     0   \n",
       "\n",
       "gene  MCF2L2 ENSG00000053524  \n",
       "7x15                       0  \n",
       "7x16                       0  \n",
       "7x17                       0  \n",
       "7x18                       0  \n",
       "8x13                       0  \n",
       "\n",
       "[5 rows x 2000 columns]"
      ]
     },
     "execution_count": 48,
     "metadata": {},
     "output_type": "execute_result"
    }
   ],
   "source": [
    "high_genes = [i for i in adata.var['highly_variable'].index if adata.var['highly_variable'][i]]\n",
    "\n",
    "data = data[high_genes]\n",
    "data.head()"
   ]
  },
  {
   "cell_type": "code",
   "execution_count": 49,
   "metadata": {},
   "outputs": [],
   "source": [
    "# X = data.drop('gene', axis=1).values.T\n",
    "X = StandardScaler().fit_transform(data)\n",
    "pca = PCA(n_components=npcs)\n",
    "X_pca = pca.fit_transform(X)\n",
    "\n",
    "mapped_14 = np.zeros((max(y_pixels)+1, max(x_pixels)+1, npcs))\n",
    "for i in range(len(x_pixels)):\n",
    "    mapped_14[y_pixels[i], x_pixels[i]] = X_pca[i]\n",
    "\n",
    "np.save(pca_file_path, mapped_14)"
   ]
  },
  {
   "cell_type": "code",
   "execution_count": 50,
   "metadata": {},
   "outputs": [],
   "source": [
    "def make_grid_idx(x_pixels,y_pixels):\n",
    "    grid_idx = np.zeros((max(y_pixels)+1,max(x_pixels)+1)) - 1\n",
    "    for i in range(len(x_pixels)):\n",
    "        grid_idx[y_pixels[i],x_pixels[i]] = 1\n",
    "    return grid_idx\n",
    "\n",
    "def get_pixel_to_grid_spot_map(grid_pixel_coor, grid_idx):\n",
    "    n = grid_pixel_coor.shape[0]\n",
    "    m = grid_pixel_coor.shape[1]\n",
    "    map_pixel_to_grid_spot = {}\n",
    "    for i in range(n):\n",
    "        for j in range(m):\n",
    "            if grid_idx[i, j] != -1:\n",
    "                map_from = f'({i}, {j})'\n",
    "                map_to = (i, j)\n",
    "                map_pixel_to_grid_spot[map_from] = map_to\n",
    "    return map_pixel_to_grid_spot\n"
   ]
  },
  {
   "cell_type": "code",
   "execution_count": 51,
   "metadata": {},
   "outputs": [
    {
     "name": "stdout",
     "output_type": "stream",
     "text": [
      "(29, 28)\n"
     ]
    },
    {
     "data": {
      "text/plain": [
       "<matplotlib.image.AxesImage at 0x7fddb35c1a50>"
      ]
     },
     "execution_count": 51,
     "metadata": {},
     "output_type": "execute_result"
    },
    {
     "data": {
      "image/png": "[encoded data removed]",
      "text/plain": [
       "<Figure size 640x480 with 1 Axes>"
      ]
     },
     "metadata": {},
     "output_type": "display_data"
    }
   ],
   "source": [
    "grid_idx = make_grid_idx(x_pixels,y_pixels)\n",
    "print(grid_idx.shape)\n",
    "map_pixel_to_grid_spot = get_pixel_to_grid_spot_map(grid_idx, grid_idx)\n",
    "plt.imshow(grid_idx)"
   ]
  },
  {
   "cell_type": "code",
   "execution_count": 52,
   "metadata": {},
   "outputs": [],
   "source": [
    "with open(map_pixel_to_grid_spot_file_path, \"w\") as outfile:\n",
    "    json.dump(map_pixel_to_grid_spot, outfile)"
   ]
  },
  {
   "cell_type": "code",
   "execution_count": 53,
   "metadata": {},
   "outputs": [],
   "source": [
    "backgrounds = np.argwhere(grid_idx == -1)\n",
    "foregrounds = np.argwhere(grid_idx == 1)"
   ]
  },
  {
   "cell_type": "code",
   "execution_count": 54,
   "metadata": {},
   "outputs": [],
   "source": [
    "np.save(background_path, backgrounds)\n",
    "np.save(foreground_path, foregrounds)"
   ]
  },
  {
   "cell_type": "code",
   "execution_count": 55,
   "metadata": {},
   "outputs": [],
   "source": [
    "def make_pixel_barcode(grid_idx,x_pixels,y_pixels):\n",
    "    mx_row,mx_col = grid_idx.shape\n",
    "\n",
    "    pixel_barcode = np.empty([mx_row + 1, mx_col + 1], dtype='<U100')\n",
    "\n",
    "    for i in range(len(x_pixels)):\n",
    "        pixel_barcode[y_pixels[i], x_pixels[i]] = str(y_pixels[i]-1) + \"x\" + str(x_pixels[i]+1)\n",
    "    return pixel_barcode\n"
   ]
  },
  {
   "cell_type": "code",
   "execution_count": 56,
   "metadata": {},
   "outputs": [],
   "source": [
    "pixel_barcode = make_pixel_barcode(grid_idx,x_pixels,y_pixels)\n",
    "np.save(pixel_barcode_file_path, pixel_barcode)"
   ]
  },
  {
   "cell_type": "code",
   "execution_count": 57,
   "metadata": {},
   "outputs": [
    {
     "data": {
      "text/html": [
       "<div>\n",
       "<style scoped>\n",
       "    .dataframe tbody tr th:only-of-type {\n",
       "        vertical-align: middle;\n",
       "    }\n",
       "\n",
       "    .dataframe tbody tr th {\n",
       "        vertical-align: top;\n",
       "    }\n",
       "\n",
       "    .dataframe thead th {\n",
       "        text-align: right;\n",
       "    }\n",
       "</style>\n",
       "<table border=\"1\" class=\"dataframe\">\n",
       "  <thead>\n",
       "    <tr style=\"text-align: right;\">\n",
       "      <th></th>\n",
       "      <th>cluster.init</th>\n",
       "    </tr>\n",
       "    <tr>\n",
       "      <th>Unnamed: 0</th>\n",
       "      <th></th>\n",
       "    </tr>\n",
       "  </thead>\n",
       "  <tbody>\n",
       "    <tr>\n",
       "      <th>7x15</th>\n",
       "      <td>0</td>\n",
       "    </tr>\n",
       "    <tr>\n",
       "      <th>7x16</th>\n",
       "      <td>0</td>\n",
       "    </tr>\n",
       "    <tr>\n",
       "      <th>7x17</th>\n",
       "      <td>0</td>\n",
       "    </tr>\n",
       "    <tr>\n",
       "      <th>7x18</th>\n",
       "      <td>0</td>\n",
       "    </tr>\n",
       "    <tr>\n",
       "      <th>8x13</th>\n",
       "      <td>0</td>\n",
       "    </tr>\n",
       "  </tbody>\n",
       "</table>\n",
       "</div>"
      ],
      "text/plain": [
       "            cluster.init\n",
       "Unnamed: 0              \n",
       "7x15                   0\n",
       "7x16                   0\n",
       "7x17                   0\n",
       "7x18                   0\n",
       "8x13                   0"
      ]
     },
     "execution_count": 57,
     "metadata": {},
     "output_type": "execute_result"
    }
   ],
   "source": [
    "new_scribble_spot = np.full_like(grid_idx, 255)\n",
    "\n",
    "df_mclust_scribble = pd.read_csv(mclust_scribbles_file_csv)\n",
    "df_mclust_scribble.set_index(\"Unnamed: 0\",inplace=True)\n",
    "df_mclust_scribble.head()"
   ]
  },
  {
   "cell_type": "code",
   "execution_count": 58,
   "metadata": {},
   "outputs": [
    {
     "data": {
      "text/plain": [
       "<matplotlib.collections.PathCollection at 0x7fdda5b9ac80>"
      ]
     },
     "execution_count": 58,
     "metadata": {},
     "output_type": "execute_result"
    },
    {
     "data": {
      "image/png": "[encoded data removed]",
      "text/plain": [
       "<Figure size 640x480 with 1 Axes>"
      ]
     },
     "metadata": {},
     "output_type": "display_data"
    }
   ],
   "source": [
    "x_pixels = []\n",
    "y_pixels = []\n",
    "labels = []\n",
    "for i in range(df_mclust_scribble.shape[0]):\n",
    "    spot = df_mclust_scribble.index[i]\n",
    "    x_pixels.append(int(spot.split(\"x\")[1])-1)\n",
    "    y_pixels.append(int(spot.split(\"x\")[0])+1)\n",
    "    labels.append(df_mclust_scribble.iloc[i,0])\n",
    "\n",
    "plt.scatter(x_pixels, y_pixels, c=labels)"
   ]
  },
  {
   "cell_type": "code",
   "execution_count": 59,
   "metadata": {},
   "outputs": [],
   "source": [
    "new_scribble_spot[y_pixels,x_pixels] = labels\n",
    "np.save(mclust_scribbles_file,new_scribble_spot)"
   ]
  },
  {
   "cell_type": "code",
   "execution_count": 60,
   "metadata": {},
   "outputs": [],
   "source": [
    "new_scribble_spot = np.full_like(grid_idx, 255)\n",
    "\n",
    "df_manual_scribble = pd.read_csv(manual_scribble_file_csv)\n",
    "df_manual_scribble.set_index(\"Unnamed: 0\",inplace=True)"
   ]
  },
  {
   "cell_type": "code",
   "execution_count": 61,
   "metadata": {},
   "outputs": [
    {
     "data": {
      "text/html": [
       "<div>\n",
       "<style scoped>\n",
       "    .dataframe tbody tr th:only-of-type {\n",
       "        vertical-align: middle;\n",
       "    }\n",
       "\n",
       "    .dataframe tbody tr th {\n",
       "        vertical-align: top;\n",
       "    }\n",
       "\n",
       "    .dataframe thead th {\n",
       "        text-align: right;\n",
       "    }\n",
       "</style>\n",
       "<table border=\"1\" class=\"dataframe\">\n",
       "  <thead>\n",
       "    <tr style=\"text-align: right;\">\n",
       "      <th></th>\n",
       "      <th>cluster.init</th>\n",
       "    </tr>\n",
       "    <tr>\n",
       "      <th>Unnamed: 0</th>\n",
       "      <th></th>\n",
       "    </tr>\n",
       "  </thead>\n",
       "  <tbody>\n",
       "    <tr>\n",
       "      <th>14x8</th>\n",
       "      <td>NaN</td>\n",
       "    </tr>\n",
       "    <tr>\n",
       "      <th>15x8</th>\n",
       "      <td>NaN</td>\n",
       "    </tr>\n",
       "    <tr>\n",
       "      <th>16x8</th>\n",
       "      <td>NaN</td>\n",
       "    </tr>\n",
       "    <tr>\n",
       "      <th>17x8</th>\n",
       "      <td>NaN</td>\n",
       "    </tr>\n",
       "    <tr>\n",
       "      <th>12x9</th>\n",
       "      <td>NaN</td>\n",
       "    </tr>\n",
       "  </tbody>\n",
       "</table>\n",
       "</div>"
      ],
      "text/plain": [
       "            cluster.init\n",
       "Unnamed: 0              \n",
       "14x8                 NaN\n",
       "15x8                 NaN\n",
       "16x8                 NaN\n",
       "17x8                 NaN\n",
       "12x9                 NaN"
      ]
     },
     "execution_count": 61,
     "metadata": {},
     "output_type": "execute_result"
    }
   ],
   "source": [
    "df_manual_scribble.head()"
   ]
  },
  {
   "cell_type": "code",
   "execution_count": 62,
   "metadata": {},
   "outputs": [
    {
     "data": {
      "text/plain": [
       "<matplotlib.collections.PathCollection at 0x7fdda5d77460>"
      ]
     },
     "execution_count": 62,
     "metadata": {},
     "output_type": "execute_result"
    },
    {
     "data": {
      "image/png": "[encoded data removed]",
      "text/plain": [
       "<Figure size 640x480 with 1 Axes>"
      ]
     },
     "metadata": {},
     "output_type": "display_data"
    }
   ],
   "source": [
    "x_pixels = []\n",
    "y_pixels = []\n",
    "labels = []\n",
    "for i in range(df_manual_scribble.shape[0]):\n",
    "    spot = df_manual_scribble.index[i]\n",
    "    if not math.isnan(df_manual_scribble.iloc[i,0]):\n",
    "        y_pixels.append(int(spot.split(\"x\")[1]))\n",
    "        x_pixels.append(int(spot.split(\"x\")[0]))\n",
    "        labels.append(df_manual_scribble.iloc[i,0]+1)\n",
    "\n",
    "plt.scatter(x_pixels,y_pixels,c=labels)"
   ]
  },
  {
   "cell_type": "code",
   "execution_count": 63,
   "metadata": {},
   "outputs": [],
   "source": [
    "new_scribble_spot[y_pixels,x_pixels] = labels\n",
    "np.save(manual_scribbles_file,new_scribble_spot)"
   ]
  },
  {
   "cell_type": "code",
   "execution_count": 64,
   "metadata": {},
   "outputs": [
    {
     "name": "stdout",
     "output_type": "stream",
     "text": [
      "27 23\n"
     ]
    }
   ],
   "source": [
    "print(max(y_pixels),max(x_pixels))"
   ]
  },
  {
   "cell_type": "code",
   "execution_count": null,
   "metadata": {},
   "outputs": [],
   "source": []
  }
 ],
 "metadata": {
  "kernelspec": {
   "display_name": "scribble_seg",
   "language": "python",
   "name": "python3"
  },
  "language_info": {
   "codemirror_mode": {
    "name": "ipython",
    "version": 3
   },
   "file_extension": ".py",
   "mimetype": "text/x-python",
   "name": "python",
   "nbconvert_exporter": "python",
   "pygments_lexer": "ipython3",
   "version": "3.10.6"
  },
  "orig_nbformat": 4,
  "vscode": {
   "interpreter": {
    "hash": "407ed979dbfe80b07ba21468a3ed606d6915cf701568c97fdf85da7c42c49b42"
   }
  }
 },
 "nbformat": 4,
 "nbformat_minor": 2
}
