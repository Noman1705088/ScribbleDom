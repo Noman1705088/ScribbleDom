{
 "cells": [
  {
   "cell_type": "code",
   "execution_count": 1,
   "metadata": {},
   "outputs": [],
   "source": [
    "import numpy as np\n",
    "import pandas as pd\n",
    "import matplotlib.pyplot as plt\n",
    "import seaborn as sns\n"
   ]
  },
  {
   "cell_type": "code",
   "execution_count": 2,
   "metadata": {},
   "outputs": [],
   "source": [
    "dataset = 'others'\n",
    "sample = 'Melanoma'\n",
    "top_x_percent = 10"
   ]
  },
  {
   "cell_type": "code",
   "execution_count": 3,
   "metadata": {},
   "outputs": [],
   "source": [
    "probability_path = f'/home/nuwaisir/Corridor/Thesis_ug/ScribbleSeg_Revision_working/Data/{dataset}/{sample}/Mclust_stuffs/probabilites_model_EEE_pcs_7_cluster_4.csv'"
   ]
  },
  {
   "cell_type": "code",
   "execution_count": 4,
   "metadata": {},
   "outputs": [],
   "source": [
    "# coor = pd.read_csv('/home/nuwaisir/Corridor/Thesis_ug/ScribbleSeg_Revision_working/Data/Human_DLPFC/151673/Coordinates/coordinates.csv', index_col=0)\n",
    "# coor"
   ]
  },
  {
   "cell_type": "code",
   "execution_count": 5,
   "metadata": {},
   "outputs": [],
   "source": [
    "p = pd.read_csv(probability_path, index_col=0)"
   ]
  },
  {
   "cell_type": "code",
   "execution_count": 6,
   "metadata": {},
   "outputs": [
    {
     "data": {
      "text/plain": [
       "Index(['7x15', '7x16', '7x17', '7x18', '8x13', '8x14', '8x15', '8x16', '8x17',\n",
       "       '8x18',\n",
       "       ...\n",
       "       '26x22', '26x23', '27x14', '27x15', '27x17', '27x18', '27x19', '27x20',\n",
       "       '27x21', '27x22'],\n",
       "      dtype='object', length=293)"
      ]
     },
     "execution_count": 6,
     "metadata": {},
     "output_type": "execute_result"
    }
   ],
   "source": [
    "p.index"
   ]
  },
  {
   "cell_type": "code",
   "execution_count": 7,
   "metadata": {},
   "outputs": [],
   "source": [
    "# x_pixels = coor['imagecol']\n",
    "# y_pixels = coor['imagerow']"
   ]
  },
  {
   "cell_type": "code",
   "execution_count": 8,
   "metadata": {},
   "outputs": [],
   "source": [
    "x_pixels = []\n",
    "y_pixels = []\n",
    "\n",
    "for spot in p.index:\n",
    "    y_pixels.append(int(spot.split('x')[1]))\n",
    "    x_pixels.append(int(spot.split('x')[0]))\n"
   ]
  },
  {
   "attachments": {},
   "cell_type": "markdown",
   "metadata": {},
   "source": [
    "# Scheme 1"
   ]
  },
  {
   "cell_type": "code",
   "execution_count": 9,
   "metadata": {},
   "outputs": [],
   "source": [
    "p_threshold = 0.9999"
   ]
  },
  {
   "cell_type": "code",
   "execution_count": 10,
   "metadata": {},
   "outputs": [],
   "source": [
    "def get_labels(p_threshold):\n",
    "    labels = []\n",
    "    for row in p.values:\n",
    "        if row.max() > p_threshold:\n",
    "            labels.append(row.argmax())\n",
    "        else:\n",
    "            labels.append(-1)\n",
    "    labels = np.array(labels)\n",
    "    return labels"
   ]
  },
  {
   "cell_type": "code",
   "execution_count": 11,
   "metadata": {},
   "outputs": [
    {
     "data": {
      "text/html": [
       "<div>\n",
       "<style scoped>\n",
       "    .dataframe tbody tr th:only-of-type {\n",
       "        vertical-align: middle;\n",
       "    }\n",
       "\n",
       "    .dataframe tbody tr th {\n",
       "        vertical-align: top;\n",
       "    }\n",
       "\n",
       "    .dataframe thead th {\n",
       "        text-align: right;\n",
       "    }\n",
       "</style>\n",
       "<table border=\"1\" class=\"dataframe\">\n",
       "  <thead>\n",
       "    <tr style=\"text-align: right;\">\n",
       "      <th></th>\n",
       "      <th>0</th>\n",
       "      <th>1</th>\n",
       "      <th>2</th>\n",
       "      <th>3</th>\n",
       "    </tr>\n",
       "  </thead>\n",
       "  <tbody>\n",
       "    <tr>\n",
       "      <th>7x15</th>\n",
       "      <td>9.872700e-01</td>\n",
       "      <td>1.051739e-05</td>\n",
       "      <td>1.271951e-02</td>\n",
       "      <td>5.170249e-10</td>\n",
       "    </tr>\n",
       "    <tr>\n",
       "      <th>7x16</th>\n",
       "      <td>7.082015e-01</td>\n",
       "      <td>2.845112e-01</td>\n",
       "      <td>7.257849e-03</td>\n",
       "      <td>2.953344e-05</td>\n",
       "    </tr>\n",
       "    <tr>\n",
       "      <th>7x17</th>\n",
       "      <td>2.104882e-02</td>\n",
       "      <td>9.780449e-01</td>\n",
       "      <td>8.474996e-04</td>\n",
       "      <td>5.873756e-05</td>\n",
       "    </tr>\n",
       "    <tr>\n",
       "      <th>7x18</th>\n",
       "      <td>7.268915e-02</td>\n",
       "      <td>1.597049e-02</td>\n",
       "      <td>9.113403e-01</td>\n",
       "      <td>9.761025e-08</td>\n",
       "    </tr>\n",
       "    <tr>\n",
       "      <th>8x13</th>\n",
       "      <td>9.724526e-01</td>\n",
       "      <td>2.748845e-02</td>\n",
       "      <td>5.822180e-05</td>\n",
       "      <td>7.745247e-07</td>\n",
       "    </tr>\n",
       "    <tr>\n",
       "      <th>...</th>\n",
       "      <td>...</td>\n",
       "      <td>...</td>\n",
       "      <td>...</td>\n",
       "      <td>...</td>\n",
       "    </tr>\n",
       "    <tr>\n",
       "      <th>27x18</th>\n",
       "      <td>1.870881e-04</td>\n",
       "      <td>9.997675e-01</td>\n",
       "      <td>4.511700e-05</td>\n",
       "      <td>2.462686e-07</td>\n",
       "    </tr>\n",
       "    <tr>\n",
       "      <th>27x19</th>\n",
       "      <td>3.431350e-01</td>\n",
       "      <td>6.548468e-01</td>\n",
       "      <td>2.009230e-03</td>\n",
       "      <td>9.034954e-06</td>\n",
       "    </tr>\n",
       "    <tr>\n",
       "      <th>27x20</th>\n",
       "      <td>1.056429e-06</td>\n",
       "      <td>9.999858e-01</td>\n",
       "      <td>1.014597e-10</td>\n",
       "      <td>1.314537e-05</td>\n",
       "    </tr>\n",
       "    <tr>\n",
       "      <th>27x21</th>\n",
       "      <td>1.068734e-06</td>\n",
       "      <td>8.495715e-01</td>\n",
       "      <td>1.810352e-12</td>\n",
       "      <td>1.504274e-01</td>\n",
       "    </tr>\n",
       "    <tr>\n",
       "      <th>27x22</th>\n",
       "      <td>2.887313e-11</td>\n",
       "      <td>1.684421e-07</td>\n",
       "      <td>1.484850e-16</td>\n",
       "      <td>9.999998e-01</td>\n",
       "    </tr>\n",
       "  </tbody>\n",
       "</table>\n",
       "<p>293 rows × 4 columns</p>\n",
       "</div>"
      ],
      "text/plain": [
       "                  0             1             2             3\n",
       "7x15   9.872700e-01  1.051739e-05  1.271951e-02  5.170249e-10\n",
       "7x16   7.082015e-01  2.845112e-01  7.257849e-03  2.953344e-05\n",
       "7x17   2.104882e-02  9.780449e-01  8.474996e-04  5.873756e-05\n",
       "7x18   7.268915e-02  1.597049e-02  9.113403e-01  9.761025e-08\n",
       "8x13   9.724526e-01  2.748845e-02  5.822180e-05  7.745247e-07\n",
       "...             ...           ...           ...           ...\n",
       "27x18  1.870881e-04  9.997675e-01  4.511700e-05  2.462686e-07\n",
       "27x19  3.431350e-01  6.548468e-01  2.009230e-03  9.034954e-06\n",
       "27x20  1.056429e-06  9.999858e-01  1.014597e-10  1.314537e-05\n",
       "27x21  1.068734e-06  8.495715e-01  1.810352e-12  1.504274e-01\n",
       "27x22  2.887313e-11  1.684421e-07  1.484850e-16  9.999998e-01\n",
       "\n",
       "[293 rows x 4 columns]"
      ]
     },
     "execution_count": 11,
     "metadata": {},
     "output_type": "execute_result"
    }
   ],
   "source": [
    "p"
   ]
  },
  {
   "cell_type": "code",
   "execution_count": 12,
   "metadata": {},
   "outputs": [
    {
     "name": "stderr",
     "output_type": "stream",
     "text": [
      "/tmp/ipykernel_21260/701299070.py:2: FutureWarning: Dropping of nuisance columns in DataFrame reductions (with 'numeric_only=None') is deprecated; in a future version this will raise TypeError.  Select only valid columns before calling the reduction.\n",
      "  p['max_value'] = p.max(axis=1)\n"
     ]
    },
    {
     "data": {
      "text/html": [
       "<div>\n",
       "<style scoped>\n",
       "    .dataframe tbody tr th:only-of-type {\n",
       "        vertical-align: middle;\n",
       "    }\n",
       "\n",
       "    .dataframe tbody tr th {\n",
       "        vertical-align: top;\n",
       "    }\n",
       "\n",
       "    .dataframe thead th {\n",
       "        text-align: right;\n",
       "    }\n",
       "</style>\n",
       "<table border=\"1\" class=\"dataframe\">\n",
       "  <thead>\n",
       "    <tr style=\"text-align: right;\">\n",
       "      <th></th>\n",
       "      <th>0</th>\n",
       "      <th>1</th>\n",
       "      <th>2</th>\n",
       "      <th>3</th>\n",
       "      <th>max_column</th>\n",
       "      <th>max_value</th>\n",
       "    </tr>\n",
       "  </thead>\n",
       "  <tbody>\n",
       "    <tr>\n",
       "      <th>7x15</th>\n",
       "      <td>9.872700e-01</td>\n",
       "      <td>1.051739e-05</td>\n",
       "      <td>1.271951e-02</td>\n",
       "      <td>5.170249e-10</td>\n",
       "      <td>0</td>\n",
       "      <td>0.987270</td>\n",
       "    </tr>\n",
       "    <tr>\n",
       "      <th>7x16</th>\n",
       "      <td>7.082015e-01</td>\n",
       "      <td>2.845112e-01</td>\n",
       "      <td>7.257849e-03</td>\n",
       "      <td>2.953344e-05</td>\n",
       "      <td>0</td>\n",
       "      <td>0.708201</td>\n",
       "    </tr>\n",
       "    <tr>\n",
       "      <th>7x17</th>\n",
       "      <td>2.104882e-02</td>\n",
       "      <td>9.780449e-01</td>\n",
       "      <td>8.474996e-04</td>\n",
       "      <td>5.873756e-05</td>\n",
       "      <td>1</td>\n",
       "      <td>0.978045</td>\n",
       "    </tr>\n",
       "    <tr>\n",
       "      <th>7x18</th>\n",
       "      <td>7.268915e-02</td>\n",
       "      <td>1.597049e-02</td>\n",
       "      <td>9.113403e-01</td>\n",
       "      <td>9.761025e-08</td>\n",
       "      <td>2</td>\n",
       "      <td>0.911340</td>\n",
       "    </tr>\n",
       "    <tr>\n",
       "      <th>8x13</th>\n",
       "      <td>9.724526e-01</td>\n",
       "      <td>2.748845e-02</td>\n",
       "      <td>5.822180e-05</td>\n",
       "      <td>7.745247e-07</td>\n",
       "      <td>0</td>\n",
       "      <td>0.972453</td>\n",
       "    </tr>\n",
       "    <tr>\n",
       "      <th>...</th>\n",
       "      <td>...</td>\n",
       "      <td>...</td>\n",
       "      <td>...</td>\n",
       "      <td>...</td>\n",
       "      <td>...</td>\n",
       "      <td>...</td>\n",
       "    </tr>\n",
       "    <tr>\n",
       "      <th>27x18</th>\n",
       "      <td>1.870881e-04</td>\n",
       "      <td>9.997675e-01</td>\n",
       "      <td>4.511700e-05</td>\n",
       "      <td>2.462686e-07</td>\n",
       "      <td>1</td>\n",
       "      <td>0.999768</td>\n",
       "    </tr>\n",
       "    <tr>\n",
       "      <th>27x19</th>\n",
       "      <td>3.431350e-01</td>\n",
       "      <td>6.548468e-01</td>\n",
       "      <td>2.009230e-03</td>\n",
       "      <td>9.034954e-06</td>\n",
       "      <td>1</td>\n",
       "      <td>0.654847</td>\n",
       "    </tr>\n",
       "    <tr>\n",
       "      <th>27x20</th>\n",
       "      <td>1.056429e-06</td>\n",
       "      <td>9.999858e-01</td>\n",
       "      <td>1.014597e-10</td>\n",
       "      <td>1.314537e-05</td>\n",
       "      <td>1</td>\n",
       "      <td>0.999986</td>\n",
       "    </tr>\n",
       "    <tr>\n",
       "      <th>27x21</th>\n",
       "      <td>1.068734e-06</td>\n",
       "      <td>8.495715e-01</td>\n",
       "      <td>1.810352e-12</td>\n",
       "      <td>1.504274e-01</td>\n",
       "      <td>1</td>\n",
       "      <td>0.849572</td>\n",
       "    </tr>\n",
       "    <tr>\n",
       "      <th>27x22</th>\n",
       "      <td>2.887313e-11</td>\n",
       "      <td>1.684421e-07</td>\n",
       "      <td>1.484850e-16</td>\n",
       "      <td>9.999998e-01</td>\n",
       "      <td>3</td>\n",
       "      <td>1.000000</td>\n",
       "    </tr>\n",
       "  </tbody>\n",
       "</table>\n",
       "<p>293 rows × 6 columns</p>\n",
       "</div>"
      ],
      "text/plain": [
       "                  0             1             2             3 max_column  \\\n",
       "7x15   9.872700e-01  1.051739e-05  1.271951e-02  5.170249e-10          0   \n",
       "7x16   7.082015e-01  2.845112e-01  7.257849e-03  2.953344e-05          0   \n",
       "7x17   2.104882e-02  9.780449e-01  8.474996e-04  5.873756e-05          1   \n",
       "7x18   7.268915e-02  1.597049e-02  9.113403e-01  9.761025e-08          2   \n",
       "8x13   9.724526e-01  2.748845e-02  5.822180e-05  7.745247e-07          0   \n",
       "...             ...           ...           ...           ...        ...   \n",
       "27x18  1.870881e-04  9.997675e-01  4.511700e-05  2.462686e-07          1   \n",
       "27x19  3.431350e-01  6.548468e-01  2.009230e-03  9.034954e-06          1   \n",
       "27x20  1.056429e-06  9.999858e-01  1.014597e-10  1.314537e-05          1   \n",
       "27x21  1.068734e-06  8.495715e-01  1.810352e-12  1.504274e-01          1   \n",
       "27x22  2.887313e-11  1.684421e-07  1.484850e-16  9.999998e-01          3   \n",
       "\n",
       "       max_value  \n",
       "7x15    0.987270  \n",
       "7x16    0.708201  \n",
       "7x17    0.978045  \n",
       "7x18    0.911340  \n",
       "8x13    0.972453  \n",
       "...          ...  \n",
       "27x18   0.999768  \n",
       "27x19   0.654847  \n",
       "27x20   0.999986  \n",
       "27x21   0.849572  \n",
       "27x22   1.000000  \n",
       "\n",
       "[293 rows x 6 columns]"
      ]
     },
     "execution_count": 12,
     "metadata": {},
     "output_type": "execute_result"
    }
   ],
   "source": [
    "p['max_column'] = p.idxmax(axis=1)\n",
    "p['max_value'] = p.max(axis=1)\n",
    "p"
   ]
  },
  {
   "cell_type": "code",
   "execution_count": 13,
   "metadata": {},
   "outputs": [
    {
     "data": {
      "text/plain": [
       "{'8x14': '0',\n",
       " '9x16': '0',\n",
       " '9x15': '0',\n",
       " '12x16': '0',\n",
       " '26x18': '1',\n",
       " '26x20': '1',\n",
       " '26x12': '1',\n",
       " '19x28': '1',\n",
       " '25x18': '1',\n",
       " '26x15': '1',\n",
       " '19x26': '1',\n",
       " '21x17': '1',\n",
       " '10x18': '1',\n",
       " '23x18': '1',\n",
       " '22x16': '1',\n",
       " '19x19': '1',\n",
       " '19x9': '2',\n",
       " '19x8': '2',\n",
       " '20x7': '2',\n",
       " '19x10': '2',\n",
       " '23x9': '2',\n",
       " '20x9': '2',\n",
       " '21x8': '2',\n",
       " '23x10': '2',\n",
       " '22x9': '2',\n",
       " '25x9': '3',\n",
       " '19x21': '3',\n",
       " '23x25': '3'}"
      ]
     },
     "execution_count": 13,
     "metadata": {},
     "output_type": "execute_result"
    }
   ],
   "source": [
    "labels = np.array(['0', '1', '2', '3', '4', '5', '6', '7'])\n",
    "\n",
    "index_to_scribble_label = {}\n",
    "for label in labels:\n",
    "    df_sub = p[p['max_column'] == label]\n",
    "    indices = df_sub['max_value'].nlargest(int(len(df_sub) * top_x_percent / 100)).index\n",
    "    for idx in indices:\n",
    "        index_to_scribble_label[idx] = label\n",
    "index_to_scribble_label"
   ]
  },
  {
   "cell_type": "code",
   "execution_count": 14,
   "metadata": {},
   "outputs": [],
   "source": [
    "color_map = {\n",
    "    -1: 'black',\n",
    "    0: 'red',\n",
    "    1: 'blue',\n",
    "    2: 'green',\n",
    "    3: 'purple',\n",
    "    4: 'cyan',\n",
    "    5: 'orange',\n",
    "    6: 'magenta',\n",
    "    7: 'yellow',\n",
    "}\n"
   ]
  },
  {
   "cell_type": "code",
   "execution_count": 15,
   "metadata": {},
   "outputs": [],
   "source": [
    "all_idx_to_label = {}\n",
    "for idx in p.index:\n",
    "    all_idx_to_label[idx] = -1\n",
    "    if idx in index_to_scribble_label:\n",
    "        all_idx_to_label[idx] = index_to_scribble_label[idx]"
   ]
  },
  {
   "cell_type": "code",
   "execution_count": 16,
   "metadata": {},
   "outputs": [
    {
     "data": {
      "text/plain": [
       "array(['-1', '0', '1', '2', '3'], dtype='<U21')"
      ]
     },
     "execution_count": 16,
     "metadata": {},
     "output_type": "execute_result"
    }
   ],
   "source": [
    "np.unique(np.array(list(all_idx_to_label.values())))"
   ]
  },
  {
   "cell_type": "code",
   "execution_count": 17,
   "metadata": {},
   "outputs": [],
   "source": [
    "df_idx_to_label = pd.DataFrame(list(all_idx_to_label.values()), index=[list(all_idx_to_label.keys())], columns=['cluster.init'])\n",
    "df_idx_to_label['cluster.init'] = df_idx_to_label['cluster.init'].replace(-1, '')"
   ]
  },
  {
   "cell_type": "code",
   "execution_count": 18,
   "metadata": {},
   "outputs": [],
   "source": [
    "df_idx_to_label.to_csv(f'/home/nuwaisir/Corridor/Thesis_ug/ScribbleSeg_Revision_working/Data/others/Melanoma/mclust_scribble_{top_x_percent}_percent.csv')"
   ]
  },
  {
   "cell_type": "code",
   "execution_count": 19,
   "metadata": {},
   "outputs": [
    {
     "data": {
      "text/plain": [
       "array(['', '0', '1', '2', '3'], dtype=object)"
      ]
     },
     "execution_count": 19,
     "metadata": {},
     "output_type": "execute_result"
    }
   ],
   "source": [
    "np.unique(df_idx_to_label['cluster.init'].values)"
   ]
  },
  {
   "cell_type": "code",
   "execution_count": 20,
   "metadata": {},
   "outputs": [
    {
     "data": {
      "image/png": "[encoded data removed]",
      "text/plain": [
       "<Figure size 450x300 with 1 Axes>"
      ]
     },
     "metadata": {},
     "output_type": "display_data"
    }
   ],
   "source": [
    "plt.figure(figsize = (4.5, 3))\n",
    "plt.axis('off')\n",
    "plt.scatter(y_pixels, x_pixels, marker='s', c=list(map(lambda x: color_map[int(x)], list(all_idx_to_label.values()))))\n",
    "plt.savefig(f'/home/nuwaisir/Corridor/Thesis_ug/ScribbleSeg_Revision_working/Data/others/Melanoma/mclust_scribble_{top_x_percent}_percent.jpg')"
   ]
  },
  {
   "cell_type": "code",
   "execution_count": null,
   "metadata": {},
   "outputs": [],
   "source": []
  },
  {
   "cell_type": "code",
   "execution_count": 21,
   "metadata": {},
   "outputs": [
    {
     "ename": "TypeError",
     "evalue": "'>=' not supported between instances of 'float' and 'str'",
     "output_type": "error",
     "traceback": [
      "\u001b[0;31m---------------------------------------------------------------------------\u001b[0m",
      "\u001b[0;31mTypeError\u001b[0m                                 Traceback (most recent call last)",
      "Cell \u001b[0;32mIn[21], line 3\u001b[0m\n\u001b[1;32m      1\u001b[0m p_thresholds \u001b[39m=\u001b[39m [\u001b[39m0.5\u001b[39m, \u001b[39m0.75\u001b[39m, \u001b[39m0.9\u001b[39m, \u001b[39m0.99\u001b[39m, \u001b[39m0.999\u001b[39m, \u001b[39m0.9999\u001b[39m, \u001b[39m0.99999\u001b[39m]\n\u001b[1;32m      2\u001b[0m \u001b[39mfor\u001b[39;00m p_threshold \u001b[39min\u001b[39;00m p_thresholds:\n\u001b[0;32m----> 3\u001b[0m     labels \u001b[39m=\u001b[39m get_labels(p_threshold)\n\u001b[1;32m      4\u001b[0m     plt\u001b[39m.\u001b[39mfigure(figsize \u001b[39m=\u001b[39m (\u001b[39m4.5\u001b[39m, \u001b[39m3\u001b[39m))\n\u001b[1;32m      5\u001b[0m     plt\u001b[39m.\u001b[39maxis(\u001b[39m'\u001b[39m\u001b[39moff\u001b[39m\u001b[39m'\u001b[39m)\n",
      "Cell \u001b[0;32mIn[10], line 4\u001b[0m, in \u001b[0;36mget_labels\u001b[0;34m(p_threshold)\u001b[0m\n\u001b[1;32m      2\u001b[0m labels \u001b[39m=\u001b[39m []\n\u001b[1;32m      3\u001b[0m \u001b[39mfor\u001b[39;00m row \u001b[39min\u001b[39;00m p\u001b[39m.\u001b[39mvalues:\n\u001b[0;32m----> 4\u001b[0m     \u001b[39mif\u001b[39;00m row\u001b[39m.\u001b[39;49mmax() \u001b[39m>\u001b[39m p_threshold:\n\u001b[1;32m      5\u001b[0m         labels\u001b[39m.\u001b[39mappend(row\u001b[39m.\u001b[39margmax())\n\u001b[1;32m      6\u001b[0m     \u001b[39melse\u001b[39;00m:\n",
      "File \u001b[0;32m~/miniconda3/envs/scribble_seg/lib/python3.10/site-packages/numpy/core/_methods.py:40\u001b[0m, in \u001b[0;36m_amax\u001b[0;34m(a, axis, out, keepdims, initial, where)\u001b[0m\n\u001b[1;32m     38\u001b[0m \u001b[39mdef\u001b[39;00m \u001b[39m_amax\u001b[39m(a, axis\u001b[39m=\u001b[39m\u001b[39mNone\u001b[39;00m, out\u001b[39m=\u001b[39m\u001b[39mNone\u001b[39;00m, keepdims\u001b[39m=\u001b[39m\u001b[39mFalse\u001b[39;00m,\n\u001b[1;32m     39\u001b[0m           initial\u001b[39m=\u001b[39m_NoValue, where\u001b[39m=\u001b[39m\u001b[39mTrue\u001b[39;00m):\n\u001b[0;32m---> 40\u001b[0m     \u001b[39mreturn\u001b[39;00m umr_maximum(a, axis, \u001b[39mNone\u001b[39;49;00m, out, keepdims, initial, where)\n",
      "\u001b[0;31mTypeError\u001b[0m: '>=' not supported between instances of 'float' and 'str'"
     ]
    }
   ],
   "source": [
    "p_thresholds = [0.5, 0.75, 0.9, 0.99, 0.999, 0.9999, 0.99999]\n",
    "for p_threshold in p_thresholds:\n",
    "    labels = get_labels(p_threshold)\n",
    "    plt.figure(figsize = (4.5, 3))\n",
    "    plt.axis('off')\n",
    "    plt.title(f\"p_threshold: {p_threshold}\")\n",
    "    plt.scatter(y_pixels, x_pixels, c=list(map(lambda x: color_map[x], labels)), marker='s')"
   ]
  },
  {
   "cell_type": "code",
   "execution_count": null,
   "metadata": {},
   "outputs": [],
   "source": [
    "finish"
   ]
  },
  {
   "attachments": {},
   "cell_type": "markdown",
   "metadata": {},
   "source": [
    "# Scheme 2"
   ]
  },
  {
   "cell_type": "code",
   "execution_count": null,
   "metadata": {},
   "outputs": [
    {
     "data": {
      "text/html": [
       "<div>\n",
       "<style scoped>\n",
       "    .dataframe tbody tr th:only-of-type {\n",
       "        vertical-align: middle;\n",
       "    }\n",
       "\n",
       "    .dataframe tbody tr th {\n",
       "        vertical-align: top;\n",
       "    }\n",
       "\n",
       "    .dataframe thead th {\n",
       "        text-align: right;\n",
       "    }\n",
       "</style>\n",
       "<table border=\"1\" class=\"dataframe\">\n",
       "  <thead>\n",
       "    <tr style=\"text-align: right;\">\n",
       "      <th></th>\n",
       "      <th>0</th>\n",
       "      <th>1</th>\n",
       "      <th>2</th>\n",
       "      <th>3</th>\n",
       "    </tr>\n",
       "  </thead>\n",
       "  <tbody>\n",
       "    <tr>\n",
       "      <th>7x15</th>\n",
       "      <td>9.872700e-01</td>\n",
       "      <td>1.051739e-05</td>\n",
       "      <td>1.271951e-02</td>\n",
       "      <td>5.170249e-10</td>\n",
       "    </tr>\n",
       "    <tr>\n",
       "      <th>7x16</th>\n",
       "      <td>7.082015e-01</td>\n",
       "      <td>2.845112e-01</td>\n",
       "      <td>7.257849e-03</td>\n",
       "      <td>2.953344e-05</td>\n",
       "    </tr>\n",
       "    <tr>\n",
       "      <th>7x17</th>\n",
       "      <td>2.104882e-02</td>\n",
       "      <td>9.780449e-01</td>\n",
       "      <td>8.474996e-04</td>\n",
       "      <td>5.873756e-05</td>\n",
       "    </tr>\n",
       "    <tr>\n",
       "      <th>7x18</th>\n",
       "      <td>7.268915e-02</td>\n",
       "      <td>1.597049e-02</td>\n",
       "      <td>9.113403e-01</td>\n",
       "      <td>9.761025e-08</td>\n",
       "    </tr>\n",
       "    <tr>\n",
       "      <th>8x13</th>\n",
       "      <td>9.724526e-01</td>\n",
       "      <td>2.748845e-02</td>\n",
       "      <td>5.822180e-05</td>\n",
       "      <td>7.745247e-07</td>\n",
       "    </tr>\n",
       "    <tr>\n",
       "      <th>...</th>\n",
       "      <td>...</td>\n",
       "      <td>...</td>\n",
       "      <td>...</td>\n",
       "      <td>...</td>\n",
       "    </tr>\n",
       "    <tr>\n",
       "      <th>27x18</th>\n",
       "      <td>1.870881e-04</td>\n",
       "      <td>9.997675e-01</td>\n",
       "      <td>4.511700e-05</td>\n",
       "      <td>2.462686e-07</td>\n",
       "    </tr>\n",
       "    <tr>\n",
       "      <th>27x19</th>\n",
       "      <td>3.431350e-01</td>\n",
       "      <td>6.548468e-01</td>\n",
       "      <td>2.009230e-03</td>\n",
       "      <td>9.034954e-06</td>\n",
       "    </tr>\n",
       "    <tr>\n",
       "      <th>27x20</th>\n",
       "      <td>1.056429e-06</td>\n",
       "      <td>9.999858e-01</td>\n",
       "      <td>1.014597e-10</td>\n",
       "      <td>1.314537e-05</td>\n",
       "    </tr>\n",
       "    <tr>\n",
       "      <th>27x21</th>\n",
       "      <td>1.068734e-06</td>\n",
       "      <td>8.495715e-01</td>\n",
       "      <td>1.810352e-12</td>\n",
       "      <td>1.504274e-01</td>\n",
       "    </tr>\n",
       "    <tr>\n",
       "      <th>27x22</th>\n",
       "      <td>2.887313e-11</td>\n",
       "      <td>1.684421e-07</td>\n",
       "      <td>1.484850e-16</td>\n",
       "      <td>9.999998e-01</td>\n",
       "    </tr>\n",
       "  </tbody>\n",
       "</table>\n",
       "<p>293 rows × 4 columns</p>\n",
       "</div>"
      ],
      "text/plain": [
       "                  0             1             2             3\n",
       "7x15   9.872700e-01  1.051739e-05  1.271951e-02  5.170249e-10\n",
       "7x16   7.082015e-01  2.845112e-01  7.257849e-03  2.953344e-05\n",
       "7x17   2.104882e-02  9.780449e-01  8.474996e-04  5.873756e-05\n",
       "7x18   7.268915e-02  1.597049e-02  9.113403e-01  9.761025e-08\n",
       "8x13   9.724526e-01  2.748845e-02  5.822180e-05  7.745247e-07\n",
       "...             ...           ...           ...           ...\n",
       "27x18  1.870881e-04  9.997675e-01  4.511700e-05  2.462686e-07\n",
       "27x19  3.431350e-01  6.548468e-01  2.009230e-03  9.034954e-06\n",
       "27x20  1.056429e-06  9.999858e-01  1.014597e-10  1.314537e-05\n",
       "27x21  1.068734e-06  8.495715e-01  1.810352e-12  1.504274e-01\n",
       "27x22  2.887313e-11  1.684421e-07  1.484850e-16  9.999998e-01\n",
       "\n",
       "[293 rows x 4 columns]"
      ]
     },
     "execution_count": 25,
     "metadata": {},
     "output_type": "execute_result"
    }
   ],
   "source": [
    "p"
   ]
  },
  {
   "cell_type": "code",
   "execution_count": null,
   "metadata": {},
   "outputs": [],
   "source": [
    "ratios = []\n",
    "for row in p.values:\n",
    "    first_max = row.max()\n",
    "    second_max = np.partition(row, -2)[-2]\n",
    "    ratio = first_max / second_max\n",
    "    ratios.append(ratio)\n",
    "ratios = np.array(ratios)"
   ]
  },
  {
   "cell_type": "code",
   "execution_count": null,
   "metadata": {},
   "outputs": [],
   "source": []
  },
  {
   "cell_type": "code",
   "execution_count": null,
   "metadata": {},
   "outputs": [
    {
     "data": {
      "text/plain": [
       "4"
      ]
     },
     "execution_count": 27,
     "metadata": {},
     "output_type": "execute_result"
    }
   ],
   "source": [
    "v = np.array([1, 2, 4, 1, 2, 8])\n",
    "np.partition(v, -2)[-2]"
   ]
  },
  {
   "cell_type": "code",
   "execution_count": null,
   "metadata": {},
   "outputs": [],
   "source": [
    "ratio_threshold = 20"
   ]
  },
  {
   "cell_type": "code",
   "execution_count": null,
   "metadata": {},
   "outputs": [],
   "source": [
    "def get_labels(ratio_threshold):\n",
    "    labels_2 = []\n",
    "    for i, row in enumerate(p.values):\n",
    "        if ratios[i] > ratio_threshold:\n",
    "            labels_2.append(row.argmax())\n",
    "        else:\n",
    "            labels_2.append(-1)\n",
    "    labels_2 = np.array(labels_2)\n",
    "    return labels_2"
   ]
  },
  {
   "cell_type": "code",
   "execution_count": null,
   "metadata": {},
   "outputs": [
    {
     "data": {
      "image/png": "[encoded data removed]",
      "text/plain": [
       "<Figure size 450x300 with 1 Axes>"
      ]
     },
     "metadata": {},
     "output_type": "display_data"
    },
    {
     "data": {
      "image/png": "[encoded data removed]",
      "text/plain": [
       "<Figure size 450x300 with 1 Axes>"
      ]
     },
     "metadata": {},
     "output_type": "display_data"
    },
    {
     "data": {
      "image/png": "[encoded data removed]",
      "text/plain": [
       "<Figure size 450x300 with 1 Axes>"
      ]
     },
     "metadata": {},
     "output_type": "display_data"
    },
    {
     "data": {
      "image/png": "[encoded data removed]",
      "text/plain": [
       "<Figure size 450x300 with 1 Axes>"
      ]
     },
     "metadata": {},
     "output_type": "display_data"
    },
    {
     "data": {
      "image/png": "[encoded data removed]",
      "text/plain": [
       "<Figure size 450x300 with 1 Axes>"
      ]
     },
     "metadata": {},
     "output_type": "display_data"
    },
    {
     "data": {
      "image/png": "[encoded data removed]",
      "text/plain": [
       "<Figure size 450x300 with 1 Axes>"
      ]
     },
     "metadata": {},
     "output_type": "display_data"
    }
   ],
   "source": [
    "ratio_thresholds = [1, 10, 100, 1000, 10000, 100000]\n",
    "for ratio_threshold in ratio_thresholds:\n",
    "    labels = get_labels(ratio_threshold)\n",
    "    plt.figure(figsize = (4.5, 3))\n",
    "    plt.axis('off')\n",
    "    plt.title(f'ratio: {ratio_threshold}')\n",
    "    plt.scatter(y_pixels, x_pixels, c=list(map(lambda x: color_map[x], labels)), marker='s')"
   ]
  },
  {
   "cell_type": "code",
   "execution_count": null,
   "metadata": {},
   "outputs": [],
   "source": []
  }
 ],
 "metadata": {
  "kernelspec": {
   "display_name": "scribble_seg",
   "language": "python",
   "name": "python3"
  },
  "language_info": {
   "codemirror_mode": {
    "name": "ipython",
    "version": 3
   },
   "file_extension": ".py",
   "mimetype": "text/x-python",
   "name": "python",
   "nbconvert_exporter": "python",
   "pygments_lexer": "ipython3",
   "version": "3.10.6"
  },
  "orig_nbformat": 4
 },
 "nbformat": 4,
 "nbformat_minor": 2
}
