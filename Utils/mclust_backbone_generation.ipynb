{
 "cells": [
  {
   "cell_type": "code",
   "execution_count": 18,
   "metadata": {},
   "outputs": [],
   "source": [
    "import scanpy as sc\n",
    "import numpy as np\n",
    "import pandas as pd\n",
    "import matplotlib.pyplot as plt"
   ]
  },
  {
   "cell_type": "code",
   "execution_count": 19,
   "metadata": {},
   "outputs": [],
   "source": [
    "threshold = 1\n",
    "dataset = 'Human_DLPFC'\n",
    "samples = [\"151507\",\"151508\",\"151509\",\"151510\",\"151669\",\"151670\",\"151671\",\"151672\",\"151673\",\"151674\",\"151675\",\"151676\"]"
   ]
  },
  {
   "cell_type": "code",
   "execution_count": 20,
   "metadata": {},
   "outputs": [],
   "source": [
    "# threshold = 1\n",
    "# dataset = 'others'\n",
    "# samples = [\"bcdc_ffpe\"]"
   ]
  },
  {
   "cell_type": "code",
   "execution_count": 21,
   "metadata": {},
   "outputs": [],
   "source": [
    "# threshold = 1\n",
    "# dataset = 'others'\n",
    "# samples = ['Melanoma']"
   ]
  },
  {
   "cell_type": "code",
   "execution_count": 22,
   "metadata": {},
   "outputs": [
    {
     "data": {
      "image/png": "[encoded data removed]",
      "text/plain": [
       "<Figure size 640x480 with 1 Axes>"
      ]
     },
     "metadata": {},
     "output_type": "display_data"
    }
   ],
   "source": [
    "for sample in samples:\n",
    "    cnt_file_path = f'./../Data/{dataset}/{sample}/reading_h5/'\n",
    "    mclust_result_csv = f'./../Data/{dataset}/{sample}/mclust_result.csv'\n",
    "    if sample == 'Melanoma':\n",
    "        # mclust_result_csv = f'./../Data/{dataset}/{sample}/mclust_scribble-3_cluster.csv'\n",
    "        mclust_result_csv = f'./../Data/{dataset}/{sample}/mclust_scribble.csv'\n",
    "\n",
    "    if dataset == 'Human_DLPFC':\n",
    "        adata = sc.read_visium(cnt_file_path, count_file=f'{sample}_filtered_feature_bc_matrix.h5')\n",
    "    else:\n",
    "        adata = sc.read(cnt_file_path+f'{sample}_filtered_feature_bc_matrix.h5')\n",
    "\n",
    "\n",
    "    arr_row,arr_col = adata.obs['array_row'],adata.obs['array_col']\n",
    "\n",
    "    # define 2d grid of string as barcode\n",
    "    barcode_grid = np.empty((arr_row.max()+1,arr_col.max()+1),dtype=object)\n",
    "    barcode_grid[arr_row,arr_col] = arr_row.index\n",
    "\n",
    "    mclust_result = pd.read_csv(mclust_result_csv,index_col=0)\n",
    "\n",
    "    mclust_backbone = pd.DataFrame(index=mclust_result.index)\n",
    "    mclust_backbone['cluster.init'] = None\n",
    "\n",
    "    def find_neighbouring_clusters(barcode_grid,mclust_result,i_row,i_col):\n",
    "        neighbours_clusters = []\n",
    "\n",
    "        if barcode_grid[i_row,i_col] is None:\n",
    "            return neighbours_clusters\n",
    "        \n",
    "        neighbours = [[i_row,i_col-2],[i_row,i_col+2],[i_row-1,i_col-1],\n",
    "        [i_row-1,i_col+1],[i_row+1,i_col-1],[i_row+1,i_col+1]]\n",
    "\n",
    "        if sample == 'Melanoma':\n",
    "            neighbours = [[i_row,i_col-1],[i_row,i_col+1],[i_row-1,i_col],[i_row+1,i_col]]\n",
    "\n",
    "        for x,y in neighbours:\n",
    "            if x<0 or y<0 or x>=barcode_grid.shape[0] or y>=barcode_grid.shape[1]:\n",
    "                continue\n",
    "            if barcode_grid[x,y] is None:\n",
    "                continue\n",
    "            neighbours_clusters.append(mclust_result['cluster.init'].loc[barcode_grid[x,y]])\n",
    "        return neighbours_clusters\n",
    "\n",
    "    for i in range(barcode_grid.shape[0]):\n",
    "        for j in range(barcode_grid.shape[1]):\n",
    "            if barcode_grid[i,j] is not None:\n",
    "                cluster_this = mclust_result['cluster.init'].loc[barcode_grid[i,j]]\n",
    "                neighbours_clusters = find_neighbouring_clusters(barcode_grid,mclust_result,i,j)\n",
    "\n",
    "                if len(neighbours_clusters) == 0:\n",
    "                    continue\n",
    "                else :\n",
    "                    correct_prop = np.where(np.array(neighbours_clusters)==cluster_this)[0].shape[0]/len(neighbours_clusters)\n",
    "                    if correct_prop >= threshold:\n",
    "                        mclust_backbone['cluster.init'].loc[barcode_grid[i,j]] = cluster_this\n",
    "\n",
    "    mclust_backbone.to_csv(f'./../Data/{dataset}/{sample}/mclust_backbone.csv')\n",
    "    mclust_backbone_matrix = np.zeros_like(barcode_grid,dtype=float)\n",
    "\n",
    "    for i in range(barcode_grid.shape[0]):\n",
    "        for j in range(barcode_grid.shape[1]):\n",
    "            if barcode_grid[i,j] is not None:\n",
    "                if mclust_backbone['cluster.init'].loc[barcode_grid[i,j]] is not None:\n",
    "                    mclust_backbone_matrix[i,j] = float(mclust_backbone['cluster.init'].loc[barcode_grid[i,j]])+1\n",
    "\n",
    "    plt.imshow(mclust_backbone_matrix*10 + 50)\n"
   ]
  }
 ],
 "metadata": {
  "kernelspec": {
   "display_name": "scribble_seg",
   "language": "python",
   "name": "python3"
  },
  "language_info": {
   "codemirror_mode": {
    "name": "ipython",
    "version": 3
   },
   "file_extension": ".py",
   "mimetype": "text/x-python",
   "name": "python",
   "nbconvert_exporter": "python",
   "pygments_lexer": "ipython3",
   "version": "3.10.6"
  },
  "orig_nbformat": 4
 },
 "nbformat": 4,
 "nbformat_minor": 2
}
