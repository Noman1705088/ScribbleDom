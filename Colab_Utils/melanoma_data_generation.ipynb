{
 "cells": [
  {
   "cell_type": "code",
   "execution_count": 5,
   "metadata": {},
   "outputs": [],
   "source": [
    "import numpy as np\n",
    "import pandas as pd\n",
    "import matplotlib.pyplot as plt\n",
    "import json\n",
    "\n",
    "# extract pcs sklearn\n",
    "from sklearn.decomposition import PCA\n",
    "from sklearn.preprocessing import StandardScaler"
   ]
  },
  {
   "cell_type": "code",
   "execution_count": 6,
   "metadata": {},
   "outputs": [],
   "source": [
    "\n",
    "map_pixel_to_grid_spot_file_path = \"/mnt/g/wsl-root-me/Thesis/ScribbleSeg/ScribbleSeg_Revision/Algorithms/Unsupervised_Segmentation/Approaches/With_Scribbles/Local_Data/others/Melanoma/Jsons/map_pixel_to_grid_spot.json\"\n",
    "background_path = \"/mnt/g/wsl-root-me/Thesis/ScribbleSeg/ScribbleSeg_Revision/Algorithms/Unsupervised_Segmentation/Approaches/With_Scribbles/Local_Data/others/Melanoma/Npys/backgrounds.npy\"\n",
    "foreground_path = \"/mnt/g/wsl-root-me/Thesis/ScribbleSeg/ScribbleSeg_Revision/Algorithms/Unsupervised_Segmentation/Approaches/With_Scribbles/Local_Data/others/Melanoma/Npys/foregrounds.npy\"\n",
    "pixel_barcode_file_path = \"/mnt/g/wsl-root-me/Thesis/ScribbleSeg/ScribbleSeg_Revision/Algorithms/Unsupervised_Segmentation/Approaches/With_Scribbles/Local_Data/others/Melanoma/Npys/pixel_barcode.npy\"\n",
    "\n",
    "pca_file_path = \"/mnt/g/wsl-root-me/Thesis/ScribbleSeg/ScribbleSeg_Revision/Algorithms/Unsupervised_Segmentation/Approaches/With_Scribbles/Local_Data/others/Melanoma/Npys/mapped_14.npy\""
   ]
  },
  {
   "cell_type": "code",
   "execution_count": 7,
   "metadata": {},
   "outputs": [
    {
     "data": {
      "text/plain": [
       "<matplotlib.collections.PathCollection at 0x7fb59e27b6a0>"
      ]
     },
     "execution_count": 7,
     "metadata": {},
     "output_type": "execute_result"
    },
    {
     "data": {
      "image/png": "[encoded data removed]",
      "text/plain": [
       "<Figure size 640x480 with 1 Axes>"
      ]
     },
     "metadata": {},
     "output_type": "display_data"
    }
   ],
   "source": [
    "# Read the data tsv file\n",
    "data = pd.read_csv('../Test/data/Melanoma/originial/ST_mel1_rep2_counts.tsv', sep='\\t')\n",
    "\n",
    "x_pixels = []\n",
    "y_pixels = []\n",
    "for spot in data.columns:\n",
    "    if spot != 'gene':\n",
    "        y_pixels.append(int(spot.split('x')[0])+1)\n",
    "        x_pixels.append(int(spot.split('x')[1])-1)\n",
    "plt.scatter(x_pixels, y_pixels)"
   ]
  },
  {
   "cell_type": "code",
   "execution_count": 8,
   "metadata": {},
   "outputs": [],
   "source": [
    "X = data.drop('gene', axis=1).values.T\n",
    "X = StandardScaler().fit_transform(X)\n",
    "pca = PCA(n_components=14)\n",
    "X_pca = pca.fit_transform(X)\n",
    "\n",
    "mapped_14 = np.zeros((max(y_pixels)+1, max(x_pixels)+1, 14))\n",
    "for i in range(len(x_pixels)):\n",
    "    mapped_14[y_pixels[i], x_pixels[i]] = X_pca[i]\n",
    "\n",
    "df = pd.DataFrame(X_pca, columns=['PC'+str(i) for i in range(1, 15)], index=data.columns[1:])\n",
    "df.to_csv('pc14.csv')\n",
    "\n",
    "np.save(pca_file_path, mapped_14)"
   ]
  },
  {
   "cell_type": "code",
   "execution_count": 9,
   "metadata": {},
   "outputs": [],
   "source": [
    "def make_grid_idx(x_pixels,y_pixels):\n",
    "    grid_idx = np.zeros((max(y_pixels)+1,max(x_pixels)+1)) - 1\n",
    "    for i in range(len(x_pixels)):\n",
    "        grid_idx[y_pixels[i],x_pixels[i]] = 1\n",
    "    return grid_idx\n",
    "\n",
    "def get_pixel_to_grid_spot_map(grid_pixel_coor, grid_idx):\n",
    "    n = grid_pixel_coor.shape[0]\n",
    "    m = grid_pixel_coor.shape[1]\n",
    "    map_pixel_to_grid_spot = {}\n",
    "    for i in range(n):\n",
    "        for j in range(m):\n",
    "            if grid_idx[i, j] != -1:\n",
    "                map_from = f'({i}, {j})'\n",
    "                map_to = (i, j)\n",
    "                map_pixel_to_grid_spot[map_from] = map_to\n",
    "    return map_pixel_to_grid_spot\n"
   ]
  },
  {
   "cell_type": "code",
   "execution_count": 10,
   "metadata": {},
   "outputs": [
    {
     "name": "stdout",
     "output_type": "stream",
     "text": [
      "(29, 28)\n"
     ]
    },
    {
     "data": {
      "text/plain": [
       "<matplotlib.image.AxesImage at 0x7fb59e0c1ed0>"
      ]
     },
     "execution_count": 10,
     "metadata": {},
     "output_type": "execute_result"
    },
    {
     "data": {
      "image/png": "[encoded data removed]",
      "text/plain": [
       "<Figure size 640x480 with 1 Axes>"
      ]
     },
     "metadata": {},
     "output_type": "display_data"
    }
   ],
   "source": [
    "grid_idx = make_grid_idx(x_pixels,y_pixels)\n",
    "print(grid_idx.shape)\n",
    "map_pixel_to_grid_spot = get_pixel_to_grid_spot_map(grid_idx, grid_idx)\n",
    "plt.imshow(grid_idx)"
   ]
  },
  {
   "cell_type": "code",
   "execution_count": null,
   "metadata": {},
   "outputs": [],
   "source": [
    "with open(map_pixel_to_grid_spot_file_path, \"w\") as outfile:\n",
    "    json.dump(map_pixel_to_grid_spot, outfile)"
   ]
  },
  {
   "cell_type": "code",
   "execution_count": 11,
   "metadata": {},
   "outputs": [],
   "source": [
    "backgrounds = np.argwhere(grid_idx == -1)\n",
    "foregrounds = np.argwhere(grid_idx == 1)"
   ]
  },
  {
   "cell_type": "code",
   "execution_count": 12,
   "metadata": {},
   "outputs": [],
   "source": [
    "np.save(background_path, backgrounds)\n",
    "np.save(foreground_path, foregrounds)"
   ]
  },
  {
   "cell_type": "code",
   "execution_count": null,
   "metadata": {},
   "outputs": [],
   "source": [
    "def make_pixel_barcode(grid_idx,x_pixels,y_pixels):\n",
    "    mx_row,mx_col = grid_idx.shape\n",
    "\n",
    "    pixel_barcode = np.empty([mx_row + 1, mx_col + 1], dtype='<U100')\n",
    "\n",
    "    for i in range(len(x_pixels)):\n",
    "        pixel_barcode[y_pixels[i], x_pixels[i]] = str(y_pixels[i]) + \"x\" + str(x_pixels[i])\n",
    "    return pixel_barcode\n"
   ]
  },
  {
   "cell_type": "code",
   "execution_count": null,
   "metadata": {},
   "outputs": [],
   "source": [
    "pixel_barcode = make_pixel_barcode(grid_idx,x_pixels,y_pixels)\n",
    "np.save(pixel_barcode_file_path, pixel_barcode)"
   ]
  },
  {
   "cell_type": "code",
   "execution_count": null,
   "metadata": {},
   "outputs": [],
   "source": [
    "new_scribble_spot = np.full_like(scribble_spots, 255)\n",
    "\n",
    "df_mclust_scribble = pd.read_csv(\"/mnt/g/wsl-root-me/Thesis/ScribbleSeg/ScribbleSeg_Revision/Data/others/Melanoma/mclust_result.csv\")\n",
    "df_mclust_scribble.set_index(\"Unnamed: 0\",inplace=True)\n",
    "df_mclust_scribble.head()"
   ]
  },
  {
   "cell_type": "code",
   "execution_count": null,
   "metadata": {},
   "outputs": [],
   "source": [
    "x_pixels = []\n",
    "y_pixels = []\n",
    "labels = []\n",
    "for i in range(df_mclust_scribble.shape[0]):\n",
    "    spot = df_mclust_scribble.index[i]\n",
    "    x_pixels.append(int(spot.split(\"x\")[1])-1)\n",
    "    y_pixels.append(int(spot.split(\"x\")[0])+1)\n",
    "    labels.append(df_mclust_scribble.iloc[i,0])\n",
    "\n",
    "\n",
    "new_scribble_spot[y_pixels,x_pixels] = labels"
   ]
  },
  {
   "cell_type": "code",
   "execution_count": null,
   "metadata": {},
   "outputs": [],
   "source": [
    "np.save(\"/mnt/g/wsl-root-me/Thesis/ScribbleSeg/ScribbleSeg_Revision/Algorithms/Unsupervised_Segmentation/Approaches/With_Scribbles/Local_Data/others/Melanoma/Scribble/mclust_scribble.npy\",new_scribble_spot)"
   ]
  }
 ],
 "metadata": {
  "kernelspec": {
   "display_name": "scribble_seg",
   "language": "python",
   "name": "python3"
  },
  "language_info": {
   "codemirror_mode": {
    "name": "ipython",
    "version": 3
   },
   "file_extension": ".py",
   "mimetype": "text/x-python",
   "name": "python",
   "nbconvert_exporter": "python",
   "pygments_lexer": "ipython3",
   "version": "3.10.6"
  },
  "orig_nbformat": 4
 },
 "nbformat": 4,
 "nbformat_minor": 2
}
