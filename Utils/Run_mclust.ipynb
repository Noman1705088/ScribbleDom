{
  "nbformat": 4,
  "nbformat_minor": 0,
  "metadata": {
    "colab": {
      "provenance": []
    },
    "kernelspec": {
      "name": "python3",
      "display_name": "Python 3"
    },
    "language_info": {
      "name": "python"
    }
  },
  "cells": [
    {
      "cell_type": "code",
      "source": [
        "!pip --quiet install rpy2==3.5.1\n",
        "!pip --quiet install scanpy"
      ],
      "metadata": {
        "id": "37NY7RnXYE_1"
      },
      "execution_count": 18,
      "outputs": []
    },
    {
      "cell_type": "code",
      "source": [
        "import numpy as np\n",
        "import pandas as pd"
      ],
      "metadata": {
        "id": "403QDL9jaF4e"
      },
      "execution_count": 19,
      "outputs": []
    },
    {
      "cell_type": "code",
      "source": [
        "df = pd.read_csv('/content/pcs_30_from_bayesSpace_top_2000_HVGs.csv')\n",
        "df = df.set_index('Unnamed: 0')\n",
        "df.head()"
      ],
      "metadata": {
        "colab": {
          "base_uri": "https://localhost:8080/",
          "height": 319
        },
        "id": "IHI2BiiLavzk",
        "outputId": "c2293cae-8204-48a3-fb86-0fb0582829ad"
      },
      "execution_count": 20,
      "outputs": [
        {
          "output_type": "execute_result",
          "data": {
            "text/plain": [
              "                  PC1       PC2       PC3       PC4       PC5       PC6  \\\n",
              "Unnamed: 0                                                                \n",
              "7x15        -7.441131 -0.561991 -1.551163  1.797642  3.405955  3.165061   \n",
              "7x16       -33.536438 -4.552305 -1.084444  1.959303  1.927931  2.503910   \n",
              "7x17       -33.419353 -4.187236 -0.130268  0.938894  1.368945  1.923064   \n",
              "7x18       -29.867554 -5.068328  0.017066  0.694912  2.093198  2.214115   \n",
              "8x13       -35.780982 -3.397238  0.214057  1.541695  2.284038  2.769298   \n",
              "\n",
              "                 PC7       PC8       PC9      PC10      PC11      PC12  \\\n",
              "Unnamed: 0                                                               \n",
              "7x15        2.195388  1.066791 -0.414418  1.600567  0.505661  1.379709   \n",
              "7x16        1.264458 -0.712239 -0.657437  1.249406  1.017060  0.553962   \n",
              "7x17        0.329495 -0.344422  0.741183  1.579745  0.698595  0.065827   \n",
              "7x18       -0.152829  0.081894 -0.738653  0.510298  1.344869 -0.201212   \n",
              "8x13        0.372325  0.285953 -0.420590  1.672827 -0.258596  1.075055   \n",
              "\n",
              "                PC13      PC14  \n",
              "Unnamed: 0                      \n",
              "7x15        1.828719  1.124380  \n",
              "7x16        1.432043  1.035836  \n",
              "7x17        1.214577  1.689047  \n",
              "7x18        1.021611  1.262486  \n",
              "8x13        1.995010  0.788229  "
            ],
            "text/html": [
              "\n",
              "  <div id=\"df-1bfbda07-dd1b-4034-b5ce-1e76c3eb2b74\">\n",
              "    <div class=\"colab-df-container\">\n",
              "      <div>\n",
              "<style scoped>\n",
              "    .dataframe tbody tr th:only-of-type {\n",
              "        vertical-align: middle;\n",
              "    }\n",
              "\n",
              "    .dataframe tbody tr th {\n",
              "        vertical-align: top;\n",
              "    }\n",
              "\n",
              "    .dataframe thead th {\n",
              "        text-align: right;\n",
              "    }\n",
              "</style>\n",
              "<table border=\"1\" class=\"dataframe\">\n",
              "  <thead>\n",
              "    <tr style=\"text-align: right;\">\n",
              "      <th></th>\n",
              "      <th>PC1</th>\n",
              "      <th>PC2</th>\n",
              "      <th>PC3</th>\n",
              "      <th>PC4</th>\n",
              "      <th>PC5</th>\n",
              "      <th>PC6</th>\n",
              "      <th>PC7</th>\n",
              "      <th>PC8</th>\n",
              "      <th>PC9</th>\n",
              "      <th>PC10</th>\n",
              "      <th>PC11</th>\n",
              "      <th>PC12</th>\n",
              "      <th>PC13</th>\n",
              "      <th>PC14</th>\n",
              "    </tr>\n",
              "    <tr>\n",
              "      <th>Unnamed: 0</th>\n",
              "      <th></th>\n",
              "      <th></th>\n",
              "      <th></th>\n",
              "      <th></th>\n",
              "      <th></th>\n",
              "      <th></th>\n",
              "      <th></th>\n",
              "      <th></th>\n",
              "      <th></th>\n",
              "      <th></th>\n",
              "      <th></th>\n",
              "      <th></th>\n",
              "      <th></th>\n",
              "      <th></th>\n",
              "    </tr>\n",
              "  </thead>\n",
              "  <tbody>\n",
              "    <tr>\n",
              "      <th>7x15</th>\n",
              "      <td>-7.441131</td>\n",
              "      <td>-0.561991</td>\n",
              "      <td>-1.551163</td>\n",
              "      <td>1.797642</td>\n",
              "      <td>3.405955</td>\n",
              "      <td>3.165061</td>\n",
              "      <td>2.195388</td>\n",
              "      <td>1.066791</td>\n",
              "      <td>-0.414418</td>\n",
              "      <td>1.600567</td>\n",
              "      <td>0.505661</td>\n",
              "      <td>1.379709</td>\n",
              "      <td>1.828719</td>\n",
              "      <td>1.124380</td>\n",
              "    </tr>\n",
              "    <tr>\n",
              "      <th>7x16</th>\n",
              "      <td>-33.536438</td>\n",
              "      <td>-4.552305</td>\n",
              "      <td>-1.084444</td>\n",
              "      <td>1.959303</td>\n",
              "      <td>1.927931</td>\n",
              "      <td>2.503910</td>\n",
              "      <td>1.264458</td>\n",
              "      <td>-0.712239</td>\n",
              "      <td>-0.657437</td>\n",
              "      <td>1.249406</td>\n",
              "      <td>1.017060</td>\n",
              "      <td>0.553962</td>\n",
              "      <td>1.432043</td>\n",
              "      <td>1.035836</td>\n",
              "    </tr>\n",
              "    <tr>\n",
              "      <th>7x17</th>\n",
              "      <td>-33.419353</td>\n",
              "      <td>-4.187236</td>\n",
              "      <td>-0.130268</td>\n",
              "      <td>0.938894</td>\n",
              "      <td>1.368945</td>\n",
              "      <td>1.923064</td>\n",
              "      <td>0.329495</td>\n",
              "      <td>-0.344422</td>\n",
              "      <td>0.741183</td>\n",
              "      <td>1.579745</td>\n",
              "      <td>0.698595</td>\n",
              "      <td>0.065827</td>\n",
              "      <td>1.214577</td>\n",
              "      <td>1.689047</td>\n",
              "    </tr>\n",
              "    <tr>\n",
              "      <th>7x18</th>\n",
              "      <td>-29.867554</td>\n",
              "      <td>-5.068328</td>\n",
              "      <td>0.017066</td>\n",
              "      <td>0.694912</td>\n",
              "      <td>2.093198</td>\n",
              "      <td>2.214115</td>\n",
              "      <td>-0.152829</td>\n",
              "      <td>0.081894</td>\n",
              "      <td>-0.738653</td>\n",
              "      <td>0.510298</td>\n",
              "      <td>1.344869</td>\n",
              "      <td>-0.201212</td>\n",
              "      <td>1.021611</td>\n",
              "      <td>1.262486</td>\n",
              "    </tr>\n",
              "    <tr>\n",
              "      <th>8x13</th>\n",
              "      <td>-35.780982</td>\n",
              "      <td>-3.397238</td>\n",
              "      <td>0.214057</td>\n",
              "      <td>1.541695</td>\n",
              "      <td>2.284038</td>\n",
              "      <td>2.769298</td>\n",
              "      <td>0.372325</td>\n",
              "      <td>0.285953</td>\n",
              "      <td>-0.420590</td>\n",
              "      <td>1.672827</td>\n",
              "      <td>-0.258596</td>\n",
              "      <td>1.075055</td>\n",
              "      <td>1.995010</td>\n",
              "      <td>0.788229</td>\n",
              "    </tr>\n",
              "  </tbody>\n",
              "</table>\n",
              "</div>\n",
              "      <button class=\"colab-df-convert\" onclick=\"convertToInteractive('df-1bfbda07-dd1b-4034-b5ce-1e76c3eb2b74')\"\n",
              "              title=\"Convert this dataframe to an interactive table.\"\n",
              "              style=\"display:none;\">\n",
              "        \n",
              "  <svg xmlns=\"http://www.w3.org/2000/svg\" height=\"24px\"viewBox=\"0 0 24 24\"\n",
              "       width=\"24px\">\n",
              "    <path d=\"M0 0h24v24H0V0z\" fill=\"none\"/>\n",
              "    <path d=\"M18.56 5.44l.94 2.06.94-2.06 2.06-.94-2.06-.94-.94-2.06-.94 2.06-2.06.94zm-11 1L8.5 8.5l.94-2.06 2.06-.94-2.06-.94L8.5 2.5l-.94 2.06-2.06.94zm10 10l.94 2.06.94-2.06 2.06-.94-2.06-.94-.94-2.06-.94 2.06-2.06.94z\"/><path d=\"M17.41 7.96l-1.37-1.37c-.4-.4-.92-.59-1.43-.59-.52 0-1.04.2-1.43.59L10.3 9.45l-7.72 7.72c-.78.78-.78 2.05 0 2.83L4 21.41c.39.39.9.59 1.41.59.51 0 1.02-.2 1.41-.59l7.78-7.78 2.81-2.81c.8-.78.8-2.07 0-2.86zM5.41 20L4 18.59l7.72-7.72 1.47 1.35L5.41 20z\"/>\n",
              "  </svg>\n",
              "      </button>\n",
              "      \n",
              "  <style>\n",
              "    .colab-df-container {\n",
              "      display:flex;\n",
              "      flex-wrap:wrap;\n",
              "      gap: 12px;\n",
              "    }\n",
              "\n",
              "    .colab-df-convert {\n",
              "      background-color: #E8F0FE;\n",
              "      border: none;\n",
              "      border-radius: 50%;\n",
              "      cursor: pointer;\n",
              "      display: none;\n",
              "      fill: #1967D2;\n",
              "      height: 32px;\n",
              "      padding: 0 0 0 0;\n",
              "      width: 32px;\n",
              "    }\n",
              "\n",
              "    .colab-df-convert:hover {\n",
              "      background-color: #E2EBFA;\n",
              "      box-shadow: 0px 1px 2px rgba(60, 64, 67, 0.3), 0px 1px 3px 1px rgba(60, 64, 67, 0.15);\n",
              "      fill: #174EA6;\n",
              "    }\n",
              "\n",
              "    [theme=dark] .colab-df-convert {\n",
              "      background-color: #3B4455;\n",
              "      fill: #D2E3FC;\n",
              "    }\n",
              "\n",
              "    [theme=dark] .colab-df-convert:hover {\n",
              "      background-color: #434B5C;\n",
              "      box-shadow: 0px 1px 3px 1px rgba(0, 0, 0, 0.15);\n",
              "      filter: drop-shadow(0px 1px 2px rgba(0, 0, 0, 0.3));\n",
              "      fill: #FFFFFF;\n",
              "    }\n",
              "  </style>\n",
              "\n",
              "      <script>\n",
              "        const buttonEl =\n",
              "          document.querySelector('#df-1bfbda07-dd1b-4034-b5ce-1e76c3eb2b74 button.colab-df-convert');\n",
              "        buttonEl.style.display =\n",
              "          google.colab.kernel.accessAllowed ? 'block' : 'none';\n",
              "\n",
              "        async function convertToInteractive(key) {\n",
              "          const element = document.querySelector('#df-1bfbda07-dd1b-4034-b5ce-1e76c3eb2b74');\n",
              "          const dataTable =\n",
              "            await google.colab.kernel.invokeFunction('convertToInteractive',\n",
              "                                                     [key], {});\n",
              "          if (!dataTable) return;\n",
              "\n",
              "          const docLinkHtml = 'Like what you see? Visit the ' +\n",
              "            '<a target=\"_blank\" href=https://colab.research.google.com/notebooks/data_table.ipynb>data table notebook</a>'\n",
              "            + ' to learn more about interactive tables.';\n",
              "          element.innerHTML = '';\n",
              "          dataTable['output_type'] = 'display_data';\n",
              "          await google.colab.output.renderOutput(dataTable, element);\n",
              "          const docLink = document.createElement('div');\n",
              "          docLink.innerHTML = docLinkHtml;\n",
              "          element.appendChild(docLink);\n",
              "        }\n",
              "      </script>\n",
              "    </div>\n",
              "  </div>\n",
              "  "
            ]
          },
          "metadata": {},
          "execution_count": 20
        }
      ]
    },
    {
      "cell_type": "code",
      "source": [
        "def mclust_R(x, n_clusters, model='EEE', random_seed=2020):\n",
        "    \"\"\"\\\n",
        "    Clustering using the mclust algorithm.\n",
        "    The parameters are the same as those in the R package mclust.\n",
        "    \"\"\"\n",
        "\n",
        "    np.random.seed(random_seed)\n",
        "    import rpy2.robjects as robjects\n",
        "    # robjects.r('install.packages(\"mclust\")')\n",
        "    robjects.r.library(\"mclust\")\n",
        "\n",
        "    import rpy2.robjects.numpy2ri\n",
        "    rpy2.robjects.numpy2ri.activate()\n",
        "    r_random_seed = robjects.r['set.seed']\n",
        "    r_random_seed(random_seed)\n",
        "    rmclust = robjects.r['Mclust']\n",
        "\n",
        "    res = rmclust(rpy2.robjects.numpy2ri.numpy2rpy(x), n_clusters, model)\n",
        "    mclust_res = np.array(res[-2]).astype(int) - 1\n",
        "    \n",
        "    return mclust_res"
      ],
      "metadata": {
        "id": "xg3xtaGbUoDh"
      },
      "execution_count": 28,
      "outputs": []
    },
    {
      "cell_type": "code",
      "source": [
        "out = mclust_R(df.values,3)"
      ],
      "metadata": {
        "colab": {
          "base_uri": "https://localhost:8080/"
        },
        "id": "yOAmMGSCYEPl",
        "outputId": "ba56cc49-ae6e-4398-9f4a-bf70ed3cd148"
      },
      "execution_count": 29,
      "outputs": [
        {
          "output_type": "stream",
          "name": "stdout",
          "text": [
            "fitting ...\n",
            "  |======================================================================| 100%\n"
          ]
        }
      ]
    },
    {
      "cell_type": "code",
      "source": [
        "df_mclust_scribble = pd.DataFrame({'cluster.init':out},index=df.index.values)"
      ],
      "metadata": {
        "id": "t3ODdY1mbK65"
      },
      "execution_count": 30,
      "outputs": []
    },
    {
      "cell_type": "code",
      "source": [
        "df_mclust_scribble.head()"
      ],
      "metadata": {
        "colab": {
          "base_uri": "https://localhost:8080/",
          "height": 206
        },
        "id": "yTaapYNqcdEu",
        "outputId": "b39d8eee-646e-478e-a782-5df467680105"
      },
      "execution_count": 31,
      "outputs": [
        {
          "output_type": "execute_result",
          "data": {
            "text/plain": [
              "      cluster.init\n",
              "7x15             0\n",
              "7x16             0\n",
              "7x17             0\n",
              "7x18             0\n",
              "8x13             0"
            ],
            "text/html": [
              "\n",
              "  <div id=\"df-2abf6468-2668-47ff-a81c-546bfb0d4792\">\n",
              "    <div class=\"colab-df-container\">\n",
              "      <div>\n",
              "<style scoped>\n",
              "    .dataframe tbody tr th:only-of-type {\n",
              "        vertical-align: middle;\n",
              "    }\n",
              "\n",
              "    .dataframe tbody tr th {\n",
              "        vertical-align: top;\n",
              "    }\n",
              "\n",
              "    .dataframe thead th {\n",
              "        text-align: right;\n",
              "    }\n",
              "</style>\n",
              "<table border=\"1\" class=\"dataframe\">\n",
              "  <thead>\n",
              "    <tr style=\"text-align: right;\">\n",
              "      <th></th>\n",
              "      <th>cluster.init</th>\n",
              "    </tr>\n",
              "  </thead>\n",
              "  <tbody>\n",
              "    <tr>\n",
              "      <th>7x15</th>\n",
              "      <td>0</td>\n",
              "    </tr>\n",
              "    <tr>\n",
              "      <th>7x16</th>\n",
              "      <td>0</td>\n",
              "    </tr>\n",
              "    <tr>\n",
              "      <th>7x17</th>\n",
              "      <td>0</td>\n",
              "    </tr>\n",
              "    <tr>\n",
              "      <th>7x18</th>\n",
              "      <td>0</td>\n",
              "    </tr>\n",
              "    <tr>\n",
              "      <th>8x13</th>\n",
              "      <td>0</td>\n",
              "    </tr>\n",
              "  </tbody>\n",
              "</table>\n",
              "</div>\n",
              "      <button class=\"colab-df-convert\" onclick=\"convertToInteractive('df-2abf6468-2668-47ff-a81c-546bfb0d4792')\"\n",
              "              title=\"Convert this dataframe to an interactive table.\"\n",
              "              style=\"display:none;\">\n",
              "        \n",
              "  <svg xmlns=\"http://www.w3.org/2000/svg\" height=\"24px\"viewBox=\"0 0 24 24\"\n",
              "       width=\"24px\">\n",
              "    <path d=\"M0 0h24v24H0V0z\" fill=\"none\"/>\n",
              "    <path d=\"M18.56 5.44l.94 2.06.94-2.06 2.06-.94-2.06-.94-.94-2.06-.94 2.06-2.06.94zm-11 1L8.5 8.5l.94-2.06 2.06-.94-2.06-.94L8.5 2.5l-.94 2.06-2.06.94zm10 10l.94 2.06.94-2.06 2.06-.94-2.06-.94-.94-2.06-.94 2.06-2.06.94z\"/><path d=\"M17.41 7.96l-1.37-1.37c-.4-.4-.92-.59-1.43-.59-.52 0-1.04.2-1.43.59L10.3 9.45l-7.72 7.72c-.78.78-.78 2.05 0 2.83L4 21.41c.39.39.9.59 1.41.59.51 0 1.02-.2 1.41-.59l7.78-7.78 2.81-2.81c.8-.78.8-2.07 0-2.86zM5.41 20L4 18.59l7.72-7.72 1.47 1.35L5.41 20z\"/>\n",
              "  </svg>\n",
              "      </button>\n",
              "      \n",
              "  <style>\n",
              "    .colab-df-container {\n",
              "      display:flex;\n",
              "      flex-wrap:wrap;\n",
              "      gap: 12px;\n",
              "    }\n",
              "\n",
              "    .colab-df-convert {\n",
              "      background-color: #E8F0FE;\n",
              "      border: none;\n",
              "      border-radius: 50%;\n",
              "      cursor: pointer;\n",
              "      display: none;\n",
              "      fill: #1967D2;\n",
              "      height: 32px;\n",
              "      padding: 0 0 0 0;\n",
              "      width: 32px;\n",
              "    }\n",
              "\n",
              "    .colab-df-convert:hover {\n",
              "      background-color: #E2EBFA;\n",
              "      box-shadow: 0px 1px 2px rgba(60, 64, 67, 0.3), 0px 1px 3px 1px rgba(60, 64, 67, 0.15);\n",
              "      fill: #174EA6;\n",
              "    }\n",
              "\n",
              "    [theme=dark] .colab-df-convert {\n",
              "      background-color: #3B4455;\n",
              "      fill: #D2E3FC;\n",
              "    }\n",
              "\n",
              "    [theme=dark] .colab-df-convert:hover {\n",
              "      background-color: #434B5C;\n",
              "      box-shadow: 0px 1px 3px 1px rgba(0, 0, 0, 0.15);\n",
              "      filter: drop-shadow(0px 1px 2px rgba(0, 0, 0, 0.3));\n",
              "      fill: #FFFFFF;\n",
              "    }\n",
              "  </style>\n",
              "\n",
              "      <script>\n",
              "        const buttonEl =\n",
              "          document.querySelector('#df-2abf6468-2668-47ff-a81c-546bfb0d4792 button.colab-df-convert');\n",
              "        buttonEl.style.display =\n",
              "          google.colab.kernel.accessAllowed ? 'block' : 'none';\n",
              "\n",
              "        async function convertToInteractive(key) {\n",
              "          const element = document.querySelector('#df-2abf6468-2668-47ff-a81c-546bfb0d4792');\n",
              "          const dataTable =\n",
              "            await google.colab.kernel.invokeFunction('convertToInteractive',\n",
              "                                                     [key], {});\n",
              "          if (!dataTable) return;\n",
              "\n",
              "          const docLinkHtml = 'Like what you see? Visit the ' +\n",
              "            '<a target=\"_blank\" href=https://colab.research.google.com/notebooks/data_table.ipynb>data table notebook</a>'\n",
              "            + ' to learn more about interactive tables.';\n",
              "          element.innerHTML = '';\n",
              "          dataTable['output_type'] = 'display_data';\n",
              "          await google.colab.output.renderOutput(dataTable, element);\n",
              "          const docLink = document.createElement('div');\n",
              "          docLink.innerHTML = docLinkHtml;\n",
              "          element.appendChild(docLink);\n",
              "        }\n",
              "      </script>\n",
              "    </div>\n",
              "  </div>\n",
              "  "
            ]
          },
          "metadata": {},
          "execution_count": 31
        }
      ]
    },
    {
      "cell_type": "code",
      "source": [
        "df_mclust_scribble.to_csv('mclust_scribble.csv')"
      ],
      "metadata": {
        "id": "6W9hat5Ocf5S"
      },
      "execution_count": 32,
      "outputs": []
    },
    {
      "cell_type": "code",
      "source": [
        "x_pixels = []\n",
        "y_pixels = []\n",
        "\n",
        "for spot in df_mclust_scribble.index:\n",
        "    y_pixels.append(int(spot.split('x')[1]))\n",
        "    x_pixels.append(int(spot.split('x')[0]))\n"
      ],
      "metadata": {
        "id": "UxJRTdy4cmqo"
      },
      "execution_count": 33,
      "outputs": []
    },
    {
      "cell_type": "code",
      "source": [
        "import matplotlib.pyplot as plt\n",
        "plt.scatter(x_pixels,y_pixels,c=df_mclust_scribble['cluster.init'].values)"
      ],
      "metadata": {
        "colab": {
          "base_uri": "https://localhost:8080/",
          "height": 282
        },
        "id": "EuwqtIH7vuaG",
        "outputId": "ad41f24f-4f34-426a-f7bb-546e753102cc"
      },
      "execution_count": 34,
      "outputs": [
        {
          "output_type": "execute_result",
          "data": {
            "text/plain": [
              "<matplotlib.collections.PathCollection at 0x7f694fd4e280>"
            ]
          },
          "metadata": {},
          "execution_count": 34
        },
        {
          "output_type": "display_data",
          "data": {
            "text/plain": [
              "<Figure size 432x288 with 1 Axes>"
            ],
            "image/png": "[encoded data removed]"
          },
          "metadata": {
            "needs_background": "light"
          }
        }
      ]
    },
    {
      "cell_type": "code",
      "source": [],
      "metadata": {
        "id": "jh3Q_EDuwL4g"
      },
      "execution_count": 34,
      "outputs": []
    }
  ]
}