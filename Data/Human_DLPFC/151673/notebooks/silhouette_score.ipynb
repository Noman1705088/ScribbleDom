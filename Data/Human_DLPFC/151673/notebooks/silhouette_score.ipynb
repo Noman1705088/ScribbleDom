{
 "cells": [
  {
   "cell_type": "code",
   "execution_count": 1,
   "metadata": {},
   "outputs": [],
   "source": [
    "import pandas as pd\n",
    "import numpy as np\n",
    "import matplotlib.pyplot as plt\n",
    "from sklearn.metrics.pairwise import cosine_similarity\n",
    "from sklearn.metrics.pairwise import euclidean_distances\n",
    "from sklearn.metrics import *"
   ]
  },
  {
   "cell_type": "code",
   "execution_count": 2,
   "metadata": {},
   "outputs": [],
   "source": [
    "outputbasefolder = '../../../Algorithms/Unsupervised_Segmentation/Approaches/With_Scribble/Outputs/Human_DLPFC/Report'"
   ]
  },
  {
   "cell_type": "code",
   "execution_count": 3,
   "metadata": {},
   "outputs": [],
   "source": [
    "co_ordinates = pd.read_csv('../Coordinates/coordinates.csv',index_col=0,header=0)\n",
    "manual_annotation = pd.read_csv('../manual_annotations.csv',index_col=0,header=0)\n",
    "pc_s = pd.read_csv('../Principal_Components/CSV/15_pcs.csv',index_col=0,header=0)\n",
    "# mclust_init = pd.read_csv('../../../../Algorithms/Unsupervised_Segmentation/Approaches/With_Scribble/Outputs/Human_DLPFC/151673/many_models_1_1_2_itr_4/Outputs/Cluster_Labels_15final.csv',index_col=0,header=0)\n",
    "mclust_init = pd.read_csv('components_manual_annotations.csv',index_col=0,header=0)\n",
    "\n",
    "c2 = (co_ordinates - co_ordinates.mean())*10/ co_ordinates.std()\n",
    "# c2 = co_ordinates\n",
    "\n",
    "combined_df = pd.concat([c2,manual_annotation,mclust_init,pc_s],axis=1)\n",
    "combined_df['label'].fillna(-1,inplace=True)\n",
    "# combined_df = combined_df.dropna(subset=['label'])\n",
    "# combined_df['label'] = combined_df['manual_annotation']\n",
    "combined_df.dropna(inplace=True)\n",
    "# combined_df['label'] = combined_df['label'].astype(int)\n",
    "# combined_df.drop(combined_df[combined_df['label']==40].index,inplace=True)\n"
   ]
  },
  {
   "cell_type": "code",
   "execution_count": 5,
   "metadata": {},
   "outputs": [],
   "source": [
    "label_map = {\n",
    "    0: 'WM',\n",
    "    6: 'L1',\n",
    "    5: 'L2',\n",
    "    4: 'L3',\n",
    "    3: 'L4',\n",
    "    2: 'L5',\n",
    "    1: 'L6',\n",
    "    7: 'L7',\n",
    "    -1: 'undetected',\n",
    "}\n",
    "# combined_df['label'] = combined_df['label'].map(label_map)"
   ]
  },
  {
   "cell_type": "code",
   "execution_count": 11,
   "metadata": {},
   "outputs": [
    {
     "data": {
      "text/plain": [
       "12"
      ]
     },
     "execution_count": 11,
     "metadata": {},
     "output_type": "execute_result"
    }
   ],
   "source": [
    "combined_df['label'].nunique()"
   ]
  },
  {
   "cell_type": "code",
   "execution_count": 4,
   "metadata": {},
   "outputs": [],
   "source": [
    "features = combined_df[pc_s.columns].values\n",
    "features_coordinate = combined_df[['imagerow','imagecol']].values\n",
    "labels = combined_df['manual_annotation'].values\n",
    "features_cor = combined_df[pc_s.columns.to_list()+['imagerow','imagecol']].values\n",
    "labels_ours = combined_df['label'].values"
   ]
  },
  {
   "cell_type": "code",
   "execution_count": 13,
   "metadata": {},
   "outputs": [
    {
     "name": "stdout",
     "output_type": "stream",
     "text": [
      "Silhouette Score for Cosine (Features only):  0.09140162206953495\n",
      "Silhouette Score for Euclidean (Features only):  0.05522049229597379\n",
      "Silhouette Score for Cosine (Features + Coordinate):  -0.026425712629437617\n",
      "Silhouette Score for Euclidean (Features + Coordinate):  0.06999632733049578\n"
     ]
    }
   ],
   "source": [
    "silhouette_cosine = silhouette_score(features,labels,metric='cosine')\n",
    "silhouette_euclidean = silhouette_score(features,labels,metric='euclidean')\n",
    "silhouette_cosine_cor = silhouette_score(features_cor,labels,metric='cosine')\n",
    "silhouette_euclidean_cor = silhouette_score(features_cor,labels,metric='euclidean')\n",
    "\n",
    "print('Silhouette Score for Cosine (Features only): ',silhouette_cosine)\n",
    "print('Silhouette Score for Euclidean (Features only): ',silhouette_euclidean)\n",
    "print('Silhouette Score for Cosine (Features + Coordinate): ',silhouette_cosine_cor)\n",
    "print('Silhouette Score for Euclidean (Features + Coordinate): ',silhouette_euclidean_cor)"
   ]
  },
  {
   "cell_type": "code",
   "execution_count": 10,
   "metadata": {},
   "outputs": [
    {
     "name": "stdout",
     "output_type": "stream",
     "text": [
      "Silhouette Score for Cosine (Features only) (ours):  0.03334348166162783\n",
      "Silhouette Score for Euclidean (Features only) (ours):  0.03646206473210781\n",
      "Silhouette Score for Cosine (Features + Coordinate) (ours):  -0.24573542486764866\n",
      "Silhouette Score for Euclidean (Features + Coordinate) (ours):  0.00820058255202031\n"
     ]
    }
   ],
   "source": [
    "silhouette_cosine_ours = silhouette_score(features,labels_ours,metric='cosine')\n",
    "silhouette_euclidean_ours = silhouette_score(features,labels_ours,metric='euclidean')\n",
    "silhouette_cosine_cor_ours = silhouette_score(features_cor,labels_ours,metric='cosine')\n",
    "silhouette_euclidean_cor_ours = silhouette_score(features_cor,labels_ours,metric='euclidean')\n",
    "silhouette_euclidian_cor_ours = silhouette_score(features_cor,labels_ours,metric='euclidean')\n",
    "\n",
    "print('Silhouette Score for Cosine (Features only) (ours): ',silhouette_cosine_ours)\n",
    "print('Silhouette Score for Euclidean (Features only) (ours): ',silhouette_euclidean_ours)\n",
    "print('Silhouette Score for Cosine (Features + Coordinate) (ours): ',silhouette_cosine_cor_ours)\n",
    "print('Silhouette Score for Euclidean (Features + Coordinate) (ours): ',silhouette_euclidean_cor_ours)"
   ]
  },
  {
   "cell_type": "code",
   "execution_count": null,
   "metadata": {},
   "outputs": [],
   "source": []
  },
  {
   "cell_type": "code",
   "execution_count": 21,
   "metadata": {},
   "outputs": [
    {
     "name": "stdout",
     "output_type": "stream",
     "text": [
      "Silhouette Score for Custom:  -0.003147402318972365\n"
     ]
    }
   ],
   "source": [
    "def distance(cos_sim,euclidean_dist,alpha=0.9):\n",
    "    return alpha * cos_sim + (1-alpha) * euclidean_dist\n",
    "\n",
    "euclidean_dist_c = euclidean_distances(features_coordinate,features_coordinate)\n",
    "cos_sim_dist_c = cosine_similarity(features,features) + 1\n",
    "\n",
    "custom_dist_c = distance(cos_sim_dist_c,euclidean_dist_c,alpha=0.7)\n",
    "np.fill_diagonal(custom_dist_c,0)\n",
    "silhouette_custom = silhouette_score(custom_dist_c,labels,metric='precomputed')\n",
    "print('Silhouette Score for Custom: ',silhouette_custom)"
   ]
  },
  {
   "cell_type": "code",
   "execution_count": 73,
   "metadata": {},
   "outputs": [
    {
     "name": "stdout",
     "output_type": "stream",
     "text": [
      "Silhouette Score for Custom Manual:  -0.04742275631833217\n"
     ]
    }
   ],
   "source": [
    "silhouette_custom_manual = silhouette_score(custom_dist_c,labels_ours,metric='precomputed')\n",
    "print('Silhouette Score for Custom Manual: ',silhouette_custom_manual)"
   ]
  },
  {
   "cell_type": "code",
   "execution_count": 56,
   "metadata": {},
   "outputs": [
    {
     "name": "stdout",
     "output_type": "stream",
     "text": [
      "Silhouette Score for Cosine ours:  0.04709180024361259\n",
      "Silhouette Score for Euclidean ours:  -0.04493280891503934\n",
      "Silhouette Score for Custom ours:  -0.054673875134121745\n"
     ]
    }
   ],
   "source": [
    "sample2 = pd.read_csv('../../../Algorithms/Unsupervised_Segmentation/Approaches/With_Scribble/Outputs/Human_DLPFC/151673/many_models_1_1_2_itr_2/Outputs/Cluster_Labels_15final.csv',index_col=0,header=0)\n",
    "\n",
    "labels_ours = pd.concat([combined_df.drop(columns=['label']),sample2],axis=1,join='inner').fillna(-1)['label'].values\n",
    "\n",
    "silhouette_cosine_ours = silhouette_score(features,labels_ours,metric='cosine')\n",
    "silhouette_euclidean_ours = silhouette_score(features_coordinate,labels_ours,metric='euclidean')\n",
    "silhouette_custom_ours = silhouette_score(custom_dist_c,labels_ours,metric='precomputed')\n",
    "print('Silhouette Score for Cosine ours: ',silhouette_cosine_ours)\n",
    "print('Silhouette Score for Euclidean ours: ',silhouette_euclidean_ours)\n",
    "print('Silhouette Score for Custom ours: ',silhouette_custom_ours)\n"
   ]
  },
  {
   "cell_type": "markdown",
   "metadata": {},
   "source": [
    "### Calinski and Harabasz score"
   ]
  },
  {
   "cell_type": "code",
   "execution_count": 12,
   "metadata": {},
   "outputs": [
    {
     "name": "stdout",
     "output_type": "stream",
     "text": [
      "Calinski Harabaz Score:  867.3427564955067\n",
      "Calinski Harabaz Score for features coordinates:  533.2242890984767\n",
      "Calinski Harabaz Score ours:  484.1004858776906\n",
      "Calinski Harabaz Score for features coordinates ours:  353.7853000089061\n"
     ]
    }
   ],
   "source": [
    "Calinski_Harabaz_score = calinski_harabasz_score(features,labels)\n",
    "print('Calinski Harabaz Score: ',Calinski_Harabaz_score)\n",
    "calinski_harabasz_score_features_coordinates = calinski_harabasz_score(features_cor,labels)\n",
    "print('Calinski Harabaz Score for features coordinates: ',calinski_harabasz_score_features_coordinates)\n",
    "calinski_harabasz_score_ours = calinski_harabasz_score(features,labels_ours)\n",
    "print('Calinski Harabaz Score ours: ',calinski_harabasz_score_ours)\n",
    "calinski_harabasz_score_features_coordinates_ours = calinski_harabasz_score(features_cor,labels_ours)\n",
    "print('Calinski Harabaz Score for features coordinates ours: ',calinski_harabasz_score_features_coordinates_ours)\n"
   ]
  },
  {
   "cell_type": "code",
   "execution_count": null,
   "metadata": {},
   "outputs": [],
   "source": []
  }
 ],
 "metadata": {
  "interpreter": {
   "hash": "35541def04ad193058c9b5b3afd24560c7277f209ee76d36789dee7d6c5bcde6"
  },
  "kernelspec": {
   "display_name": "Python 3 (ipykernel)",
   "language": "python",
   "name": "python3"
  },
  "language_info": {
   "codemirror_mode": {
    "name": "ipython",
    "version": 3
   },
   "file_extension": ".py",
   "mimetype": "text/x-python",
   "name": "python",
   "nbconvert_exporter": "python",
   "pygments_lexer": "ipython3",
   "version": "3.10.2"
  }
 },
 "nbformat": 4,
 "nbformat_minor": 2
}
