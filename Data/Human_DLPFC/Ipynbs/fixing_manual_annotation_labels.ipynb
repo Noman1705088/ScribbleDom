{
 "cells": [
  {
   "cell_type": "code",
   "execution_count": 2,
   "metadata": {},
   "outputs": [],
   "source": [
    "import pandas as pd\n",
    "import numpy as np\n",
    "import math"
   ]
  },
  {
   "cell_type": "code",
   "execution_count": 3,
   "metadata": {},
   "outputs": [],
   "source": [
    "samples = list(range(151507, 151511)) + list(range(151669, 151677))"
   ]
  },
  {
   "cell_type": "code",
   "execution_count": 20,
   "metadata": {},
   "outputs": [],
   "source": [
    "def fix(x):\n",
    "    if 'str' in str(type(x)):\n",
    "        if x == 'WM':\n",
    "            return 0\n",
    "        return float(x[1])\n",
    "    else:\n",
    "        return \"\"\n",
    "\n",
    "for sample in samples:\n",
    "    df = pd.read_csv('../' + str(sample) + '/manual_annotations.csv',index_col=0)\n",
    "    # df['label'] = df['label'].apply(fix)\n",
    "    df.to_csv('../' + str(sample) + '/manual_annotations.csv', index=False)\n",
    "# df"
   ]
  },
  {
   "cell_type": "code",
   "execution_count": 17,
   "metadata": {},
   "outputs": [
    {
     "data": {
      "text/html": [
       "<div>\n",
       "<style scoped>\n",
       "    .dataframe tbody tr th:only-of-type {\n",
       "        vertical-align: middle;\n",
       "    }\n",
       "\n",
       "    .dataframe tbody tr th {\n",
       "        vertical-align: top;\n",
       "    }\n",
       "\n",
       "    .dataframe thead th {\n",
       "        text-align: right;\n",
       "    }\n",
       "</style>\n",
       "<table border=\"1\" class=\"dataframe\">\n",
       "  <thead>\n",
       "    <tr style=\"text-align: right;\">\n",
       "      <th></th>\n",
       "      <th>Unnamed: 0</th>\n",
       "      <th>label</th>\n",
       "    </tr>\n",
       "  </thead>\n",
       "  <tbody>\n",
       "    <tr>\n",
       "      <th>0</th>\n",
       "      <td>AAACAAGTATCTCCCA-1</td>\n",
       "      <td>3.0</td>\n",
       "    </tr>\n",
       "    <tr>\n",
       "      <th>1</th>\n",
       "      <td>AAACAATCTACTAGCA-1</td>\n",
       "      <td>1.0</td>\n",
       "    </tr>\n",
       "    <tr>\n",
       "      <th>2</th>\n",
       "      <td>AAACACCAATAACTGC-1</td>\n",
       "      <td>0</td>\n",
       "    </tr>\n",
       "    <tr>\n",
       "      <th>3</th>\n",
       "      <td>AAACAGAGCGACTCCT-1</td>\n",
       "      <td>3.0</td>\n",
       "    </tr>\n",
       "    <tr>\n",
       "      <th>4</th>\n",
       "      <td>AAACAGGGTCTATATT-1</td>\n",
       "      <td>6.0</td>\n",
       "    </tr>\n",
       "    <tr>\n",
       "      <th>...</th>\n",
       "      <td>...</td>\n",
       "      <td>...</td>\n",
       "    </tr>\n",
       "    <tr>\n",
       "      <th>3455</th>\n",
       "      <td>TTGTTGTGTGTCAAGA-1</td>\n",
       "      <td>6.0</td>\n",
       "    </tr>\n",
       "    <tr>\n",
       "      <th>3456</th>\n",
       "      <td>TTGTTTCACATCCAGG-1</td>\n",
       "      <td>0</td>\n",
       "    </tr>\n",
       "    <tr>\n",
       "      <th>3457</th>\n",
       "      <td>TTGTTTCATTAGTCTA-1</td>\n",
       "      <td>0</td>\n",
       "    </tr>\n",
       "    <tr>\n",
       "      <th>3458</th>\n",
       "      <td>TTGTTTCCATACAACT-1</td>\n",
       "      <td>6.0</td>\n",
       "    </tr>\n",
       "    <tr>\n",
       "      <th>3459</th>\n",
       "      <td>TTGTTTGTGTAAATTC-1</td>\n",
       "      <td>1.0</td>\n",
       "    </tr>\n",
       "  </tbody>\n",
       "</table>\n",
       "<p>3460 rows × 2 columns</p>\n",
       "</div>"
      ],
      "text/plain": [
       "              Unnamed: 0 label\n",
       "0     AAACAAGTATCTCCCA-1   3.0\n",
       "1     AAACAATCTACTAGCA-1   1.0\n",
       "2     AAACACCAATAACTGC-1     0\n",
       "3     AAACAGAGCGACTCCT-1   3.0\n",
       "4     AAACAGGGTCTATATT-1   6.0\n",
       "...                  ...   ...\n",
       "3455  TTGTTGTGTGTCAAGA-1   6.0\n",
       "3456  TTGTTTCACATCCAGG-1     0\n",
       "3457  TTGTTTCATTAGTCTA-1     0\n",
       "3458  TTGTTTCCATACAACT-1   6.0\n",
       "3459  TTGTTTGTGTAAATTC-1   1.0\n",
       "\n",
       "[3460 rows x 2 columns]"
      ]
     },
     "execution_count": 17,
     "metadata": {},
     "output_type": "execute_result"
    }
   ],
   "source": [
    "df"
   ]
  }
 ],
 "metadata": {
  "interpreter": {
   "hash": "8e463486bdd760607b985d65ff956353d859ddcc139d92c33f6fb9e87c42a83e"
  },
  "kernelspec": {
   "display_name": "Python 3.8.10 64-bit (windows store)",
   "language": "python",
   "name": "python3"
  },
  "language_info": {
   "codemirror_mode": {
    "name": "ipython",
    "version": 3
   },
   "file_extension": ".py",
   "mimetype": "text/x-python",
   "name": "python",
   "nbconvert_exporter": "python",
   "pygments_lexer": "ipython3",
   "version": "3.8.10"
  },
  "orig_nbformat": 4
 },
 "nbformat": 4,
 "nbformat_minor": 2
}
