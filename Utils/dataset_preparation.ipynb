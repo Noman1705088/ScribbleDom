{
  "cells": [
    {
      "attachments": {},
      "cell_type": "markdown",
      "metadata": {
        "id": "5CiwFduiRofh"
      },
      "source": [
        "# Instructions\n",
        "\n",
        "## file structure.\n",
        "\n",
        "```\n",
        "Data\n",
        "│\n",
        "└───Dataset\n",
        "│   └───sample\n",
        "│   │   └───Coordinates\n",
        "|   |   |     |   coordinates.csv  \n",
        "│   │   └───Principal_Components\n",
        "|   |   |     └───Principal_Component\n",
        "|   |   |         └───CSV\n",
        "|   |   |             |   pcs_30_from_bayesSpace_top_2000_HVGs.csv\n",
        "│   │   └───reading_h5\n",
        "│   |       |   adata.h5\n",
        "│   |\n",
        "│   └───manual_annotations.csv\n",
        "    └───manual_scribble.csv\n",
        "```\n",
        "\n",
        "## you will get everything if you run this. \n",
        "###Except the manual annotaion, you will get this if you have a .tsv manual annotation url\n",
        "###and you have to provide the manual scribble\n",
        "###and also mclust scribble"
      ]
    },
    {
      "cell_type": "markdown",
      "metadata": {
        "id": "E4V9QfYVIsda"
      },
      "source": [
        "#Installations"
      ]
    },
    {
      "cell_type": "code",
      "execution_count": null,
      "metadata": {
        "id": "cJfVZAgzII07"
      },
      "outputs": [],
      "source": [
        "!pip --quiet install scanpy\n",
        "!pip --quiet install stlearn"
      ]
    },
    {
      "cell_type": "markdown",
      "metadata": {
        "id": "wIi2PNwSIz4z"
      },
      "source": [
        "#Imports and constants"
      ]
    },
    {
      "cell_type": "code",
      "execution_count": null,
      "metadata": {
        "id": "Ianz6n86IM_7"
      },
      "outputs": [],
      "source": [
        "import scanpy as sc\n",
        "import stlearn as st\n",
        "import anndata as an\n",
        "import pandas as pd\n",
        "import numpy as np\n",
        "import matplotlib as mpl\n",
        "import matplotlib.pyplot as plt\n",
        "import seaborn as sns\n",
        "import requests\n",
        "import re"
      ]
    },
    {
      "cell_type": "code",
      "execution_count": null,
      "metadata": {
        "id": "vRohCMhdMxCl"
      },
      "outputs": [],
      "source": [
        "npcs = 30\n",
        "nHVGs = 2000\n",
        "dataset = \"others\"\n",
        "sample = \"bcdc_ffpe\"\n",
        "man_ann_url = \"https://raw.githubusercontent.com/JinmiaoChenLab/SEDR_analyses/master/data/BRCA1/metadata.tsv\""
      ]
    },
    {
      "cell_type": "markdown",
      "metadata": {
        "id": "FoFPARg2I_u2"
      },
      "source": [
        "#Prepear Anndata This will vary from dataset to dataset"
      ]
    },
    {
      "cell_type": "markdown",
      "metadata": {
        "id": "SVV2kGAzJLs3"
      },
      "source": [
        "## For some case you can down load the whole data using a sample id\n",
        "### sc.datasets.visium_sge(ID)\n",
        "## For some case you have to prepear the directory like\n",
        "```\n",
        "data\n",
        "│\n",
        "└───Dataset Name\n",
        "│   └───spatial\n",
        "│   │   |\n",
        "|   |   |    scalefactors_json.json  \n",
        "|   |   |    tissue_hires_image.png\n",
        "|   |   |    tissue_lowres_image.png \n",
        "|   |   |    tissue_positions_list.csv\n",
        "│   │\n",
        "│   |\n",
        "│   └───filtered_feature_bc_matrix.h5\n",
        "\n",
        "\n",
        "```\n",
        "### and call sc.read_visium(path='Dataset Name')"
      ]
    },
    {
      "cell_type": "markdown",
      "metadata": {
        "id": "CnSoMCogUS_q"
      },
      "source": [
        "#Downloading code"
      ]
    },
    {
      "cell_type": "code",
      "execution_count": null,
      "metadata": {
        "id": "4r1FjdksI-o1"
      },
      "outputs": [],
      "source": [
        "# adata = sc.datasets.visium_sge(\n",
        "#     sample_id=\"V1_Breast_Cancer_Block_A_Section_1\"\n",
        "# )"
      ]
    },
    {
      "cell_type": "code",
      "execution_count": null,
      "metadata": {
        "colab": {
          "base_uri": "https://localhost:8080/"
        },
        "id": "ZdeudOnQgroW",
        "outputId": "b687a216-e45d-4a78-bbf3-250bb0add8c5"
      },
      "outputs": [
        {
          "name": "stderr",
          "output_type": "stream",
          "text": [
            "/usr/local/lib/python3.9/dist-packages/anndata/_core/anndata.py:1830: UserWarning: Variable names are not unique. To make them unique, call `.var_names_make_unique`.\n",
            "  utils.warn_names_duplicates(\"var\")\n"
          ]
        }
      ],
      "source": [
        "adata = sc.read_visium(\"/content/drive/MyDrive/Thesis-Documents/Data/Breast Cancer Ductal Carcinoma\")"
      ]
    },
    {
      "cell_type": "code",
      "execution_count": null,
      "metadata": {
        "colab": {
          "base_uri": "https://localhost:8080/",
          "height": 300
        },
        "id": "McxkknH5I484",
        "outputId": "f7468de0-60c7-429b-edaf-39465d2b6376"
      },
      "outputs": [
        {
          "data": {
            "image/png": "[encoded data removed]",
            "text/plain": [
              "<Figure size 432x288 with 1 Axes>"
            ]
          },
          "metadata": {
            "needs_background": "light"
          },
          "output_type": "display_data"
        }
      ],
      "source": [
        "sc.pp.normalize_total(adata, inplace=True)\n",
        "sc.pp.log1p(adata)\n",
        "sc.pp.highly_variable_genes(adata, flavor=\"seurat\", n_top_genes=2000)\n",
        "\n",
        "sc.pp.pca(adata,n_comps=npcs)\n",
        "sc.pl.pca_variance_ratio(adata, log=True)"
      ]
    },
    {
      "cell_type": "code",
      "execution_count": null,
      "metadata": {
        "colab": {
          "base_uri": "https://localhost:8080/"
        },
        "id": "6PcfiHRBMA55",
        "outputId": "13085b6b-4c96-4e78-eff6-187e4d237b52"
      },
      "outputs": [
        {
          "data": {
            "text/plain": [
              "AnnData object with n_obs × n_vars = 2518 × 17943\n",
              "    obs: 'in_tissue', 'array_row', 'array_col', 'imagecol', 'imagerow'\n",
              "    var: 'gene_ids', 'feature_types', 'genome', 'highly_variable', 'means', 'dispersions', 'dispersions_norm'\n",
              "    uns: 'spatial', 'log1p', 'hvg', 'pca'\n",
              "    obsm: 'spatial', 'X_pca'\n",
              "    varm: 'PCs'"
            ]
          },
          "execution_count": 22,
          "metadata": {},
          "output_type": "execute_result"
        }
      ],
      "source": [
        "st.convert_scanpy(adata)"
      ]
    },
    {
      "cell_type": "code",
      "execution_count": null,
      "metadata": {
        "colab": {
          "base_uri": "https://localhost:8080/",
          "height": 285
        },
        "id": "NOo7_XdChlxC",
        "outputId": "f9d4f2f7-0fbd-44a4-c27e-859bc2d8e435"
      },
      "outputs": [
        {
          "data": {
            "text/plain": [
              "<matplotlib.collections.PathCollection at 0x7f8ebf31c8b0>"
            ]
          },
          "execution_count": 23,
          "metadata": {},
          "output_type": "execute_result"
        },
        {
          "data": {
            "image/png": "[encoded data removed]",
            "text/plain": [
              "<Figure size 432x288 with 1 Axes>"
            ]
          },
          "metadata": {
            "needs_background": "light"
          },
          "output_type": "display_data"
        }
      ],
      "source": [
        "plt.scatter(adata.obs['imagecol'],adata.obs['imagerow'])"
      ]
    },
    {
      "cell_type": "code",
      "execution_count": null,
      "metadata": {
        "id": "n7jyzaCyOO22"
      },
      "outputs": [],
      "source": [
        "!mkdir -p Data/{dataset}/{sample}/Coordinates\n",
        "\n",
        "df = pd.DataFrame([adata.obs['imagecol'],adata.obs['imagerow']]).T\n",
        "df.to_csv(f'Data/{dataset}/{sample}/Coordinates/coordinates.csv')"
      ]
    },
    {
      "cell_type": "code",
      "execution_count": null,
      "metadata": {
        "id": "_QSE9f5LOiCb"
      },
      "outputs": [],
      "source": [
        "!mkdir -p Data/{dataset}/{sample}/Principal_Components/CSV\n",
        "\n",
        "df = pd.DataFrame(adata.obsm['X_pca'],index=adata.obs_names)\n",
        "df.to_csv(f'Data/{dataset}/{sample}/Principal_Components/CSV/pcs_30_from_bayesSpace_top_2000_HVGs.csv')"
      ]
    },
    {
      "cell_type": "code",
      "execution_count": null,
      "metadata": {
        "id": "zOelMztkQHOz"
      },
      "outputs": [],
      "source": [
        "response = requests.get(man_ann_url)\n",
        "open(\"manual_ann.tsv\", \"wb\").write(response.content)\n",
        "\n",
        "with open(\"/content/manual_ann.tsv\", 'r') as myfile: \n",
        "  with open(\"/content/manual_ann.csv\", 'w') as csv_file:\n",
        "    for line in myfile:\n",
        "      fileContent = re.sub(\"\\t\", \",\", line)\n",
        "      csv_file.write(fileContent)\n",
        "\n",
        "df = pd.read_csv('/content/manual_ann.csv')\n",
        "\n",
        "# type_anot = 'fine_annot_type'\n",
        "type_anot='annot_type'\n",
        "\n",
        "regions = df[type_anot].unique()\n",
        "dict = {}\n",
        "cnt = 1\n",
        "for region in regions:\n",
        "  dict[region] = cnt\n",
        "  cnt+=1\n",
        "\n",
        "df = df.replace({type_anot:dict})\n",
        "df_man_ann = pd.DataFrame(data = {'label':df[type_anot].tolist()}, index=df['ID'].tolist())\n",
        "\n",
        "df_man_ann.to_csv(f'Data/{dataset}/{sample}/manual_annotations.csv')\n",
        "\n",
        "! rm /content/manual_ann.*"
      ]
    },
    {
      "cell_type": "code",
      "execution_count": null,
      "metadata": {
        "id": "BpjMDTOnQHwG"
      },
      "outputs": [],
      "source": [
        "!mkdir -p Data/{dataset}/{sample}/reading_h5\n",
        "adata.write(f'Data/{dataset}/{sample}/reading_h5/adata.h5', compression=\"gzip\")"
      ]
    },
    {
      "cell_type": "code",
      "execution_count": null,
      "metadata": {
        "colab": {
          "base_uri": "https://localhost:8080/"
        },
        "id": "1SWNhzG5S0f6",
        "outputId": "06aa407f-fa52-47e6-831d-de116f14d12d"
      },
      "outputs": [
        {
          "name": "stdout",
          "output_type": "stream",
          "text": [
            "updating: content/Data/ (stored 0%)\n",
            "updating: content/Data/others/ (stored 0%)\n",
            "  adding: content/Data/others/bcdc_ffpe/ (stored 0%)\n",
            "  adding: content/Data/others/bcdc_ffpe/reading_h5/ (stored 0%)\n",
            "  adding: content/Data/others/bcdc_ffpe/reading_h5/adata.h5 (deflated 6%)\n",
            "  adding: content/Data/others/bcdc_ffpe/Principal_Components/ (stored 0%)\n",
            "  adding: content/Data/others/bcdc_ffpe/Principal_Components/CSV/ (stored 0%)\n",
            "  adding: content/Data/others/bcdc_ffpe/Principal_Components/CSV/pcs_30_from_bayesSpace_top_2000_HVGs.csv (deflated 56%)\n",
            "  adding: content/Data/others/bcdc_ffpe/Coordinates/ (stored 0%)\n",
            "  adding: content/Data/others/bcdc_ffpe/Coordinates/coordinates.csv (deflated 65%)\n",
            "  adding: content/Data/others/bcdc_ffpe/manual_annotations.csv (deflated 72%)\n"
          ]
        }
      ],
      "source": [
        "! zip -r Data.zip /content/Data"
      ]
    },
    {
      "cell_type": "code",
      "execution_count": null,
      "metadata": {
        "id": "0h1dEA1tTxcR"
      },
      "outputs": [],
      "source": [
        "! rm -rf ./Data/"
      ]
    },
    {
      "cell_type": "code",
      "execution_count": null,
      "metadata": {
        "id": "EjlncvOMiLDB"
      },
      "outputs": [],
      "source": []
    }
  ],
  "metadata": {
    "colab": {
      "provenance": []
    },
    "kernelspec": {
      "display_name": "Python 3",
      "name": "python3"
    },
    "language_info": {
      "name": "python"
    }
  },
  "nbformat": 4,
  "nbformat_minor": 0
}
